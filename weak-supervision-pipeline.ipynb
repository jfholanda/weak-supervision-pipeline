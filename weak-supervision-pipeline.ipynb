{
  "cells": [
    {
      "cell_type": "markdown",
      "metadata": {},
      "source": [
        "# Weak Supervision Pipeline - News from Folha de SP\n",
        "\n",
        "This notebook is an assignment for the Datacentric AI (IMD3011) course at Instituto Metrópole Digital (IMD), taught by Professor Elias Jacob. The goal is to develop a weak supervision pipeline as part of the first unit's assessment.\n",
        " \n",
        "Here, we will perform news classification using articles extracted from Folha de S.Paulo, leveraging a dataset available on Kaggle. The workflow will include data exploration, preprocessing, and modeling steps, with a focus on weak supervision techniques for automatic labeling and classification of news articles."
      ]
    },
    {
      "cell_type": "code",
      "execution_count": null,
      "metadata": {
        "colab": {
          "base_uri": "https://localhost:8080/"
        },
        "id": "_Ty4ns3bg3k9",
        "outputId": "7abf0bb1-bfab-480b-e08c-76ded4e6832c"
      },
      "outputs": [
        {
          "name": "stdout",
          "output_type": "stream",
          "text": [
            "  % Total    % Received % Xferd  Average Speed   Time    Time     Time  Current\n",
            "                                 Dload  Upload   Total   Spent    Left  Speed\n",
            "  0     0    0     0    0     0      0      0 --:--:-- --:--:-- --:--:--     0\n",
            "100  187M  100  187M    0     0   154M      0  0:00:01  0:00:01 --:--:--  212M\n"
          ]
        }
      ],
      "source": [
        "\n",
        "#Download the dataset from Kaggle\n",
        "!curl -L -o ./news-of-the-site-folhauol.zip\\\n",
        "  https://www.kaggle.com/api/v1/datasets/download/marlesson/news-of-the-site-folhauol"
      ]
    },
    {
      "cell_type": "code",
      "execution_count": 1,
      "metadata": {
        "id": "bAp-qNlnkBI2"
      },
      "outputs": [
        {
          "data": {
            "text/plain": [
              "'0.9.9'"
            ]
          },
          "execution_count": 1,
          "metadata": {},
          "output_type": "execute_result"
        }
      ],
      "source": [
        "import snorkel\n",
        "import pandas as pd\n",
        "from snorkel.labeling import (\n",
        "    LFAnalysis,\n",
        "    PandasLFApplier,\n",
        "    filter_unlabeled_dataframe,\n",
        "    labeling_function,\n",
        ")\n",
        "from snorkel.labeling.model.label_model import LabelModel\n",
        "from snorkel.utils import probs_to_preds\n",
        "\n",
        "snorkel.__version__"
      ]
    },
    {
      "cell_type": "markdown",
      "metadata": {
        "id": "M9_3Yc0dpNSf"
      },
      "source": [
        "EDA"
      ]
    },
    {
      "cell_type": "code",
      "execution_count": 2,
      "metadata": {
        "colab": {
          "base_uri": "https://localhost:8080/",
          "height": 293
        },
        "id": "mmE5F6R5h9jN",
        "outputId": "ea399d01-ac75-45bc-a9bf-1b462d2f619e"
      },
      "outputs": [
        {
          "data": {
            "text/html": [
              "<div>\n",
              "<style scoped>\n",
              "    .dataframe tbody tr th:only-of-type {\n",
              "        vertical-align: middle;\n",
              "    }\n",
              "\n",
              "    .dataframe tbody tr th {\n",
              "        vertical-align: top;\n",
              "    }\n",
              "\n",
              "    .dataframe thead th {\n",
              "        text-align: right;\n",
              "    }\n",
              "</style>\n",
              "<table border=\"1\" class=\"dataframe\">\n",
              "  <thead>\n",
              "    <tr style=\"text-align: right;\">\n",
              "      <th></th>\n",
              "      <th>title</th>\n",
              "      <th>text</th>\n",
              "      <th>date</th>\n",
              "      <th>category</th>\n",
              "      <th>subcategory</th>\n",
              "      <th>link</th>\n",
              "    </tr>\n",
              "  </thead>\n",
              "  <tbody>\n",
              "    <tr>\n",
              "      <th>0</th>\n",
              "      <td>Lula diz que está 'lascado', mas que ainda tem...</td>\n",
              "      <td>Com a possibilidade de uma condenação impedir ...</td>\n",
              "      <td>2017-09-10</td>\n",
              "      <td>poder</td>\n",
              "      <td>NaN</td>\n",
              "      <td>http://www1.folha.uol.com.br/poder/2017/10/192...</td>\n",
              "    </tr>\n",
              "    <tr>\n",
              "      <th>1</th>\n",
              "      <td>'Decidi ser escrava das mulheres que sofrem', ...</td>\n",
              "      <td>Para Oumou Sangaré, cantora e ativista malines...</td>\n",
              "      <td>2017-09-10</td>\n",
              "      <td>ilustrada</td>\n",
              "      <td>NaN</td>\n",
              "      <td>http://www1.folha.uol.com.br/ilustrada/2017/10...</td>\n",
              "    </tr>\n",
              "    <tr>\n",
              "      <th>2</th>\n",
              "      <td>Três reportagens da Folha ganham Prêmio Petrob...</td>\n",
              "      <td>Três reportagens da Folha foram vencedoras do ...</td>\n",
              "      <td>2017-09-10</td>\n",
              "      <td>poder</td>\n",
              "      <td>NaN</td>\n",
              "      <td>http://www1.folha.uol.com.br/poder/2017/10/192...</td>\n",
              "    </tr>\n",
              "    <tr>\n",
              "      <th>3</th>\n",
              "      <td>Filme 'Star Wars: Os Últimos Jedi' ganha trail...</td>\n",
              "      <td>A Disney divulgou na noite desta segunda-feira...</td>\n",
              "      <td>2017-09-10</td>\n",
              "      <td>ilustrada</td>\n",
              "      <td>NaN</td>\n",
              "      <td>http://www1.folha.uol.com.br/ilustrada/2017/10...</td>\n",
              "    </tr>\n",
              "    <tr>\n",
              "      <th>4</th>\n",
              "      <td>CBSS inicia acordos com fintechs e quer 30% do...</td>\n",
              "      <td>O CBSS, banco da holding Elopar dos sócios Bra...</td>\n",
              "      <td>2017-09-10</td>\n",
              "      <td>mercado</td>\n",
              "      <td>NaN</td>\n",
              "      <td>http://www1.folha.uol.com.br/mercado/2017/10/1...</td>\n",
              "    </tr>\n",
              "  </tbody>\n",
              "</table>\n",
              "</div>"
            ],
            "text/plain": [
              "                                               title  \\\n",
              "0  Lula diz que está 'lascado', mas que ainda tem...   \n",
              "1  'Decidi ser escrava das mulheres que sofrem', ...   \n",
              "2  Três reportagens da Folha ganham Prêmio Petrob...   \n",
              "3  Filme 'Star Wars: Os Últimos Jedi' ganha trail...   \n",
              "4  CBSS inicia acordos com fintechs e quer 30% do...   \n",
              "\n",
              "                                                text        date   category  \\\n",
              "0  Com a possibilidade de uma condenação impedir ...  2017-09-10      poder   \n",
              "1  Para Oumou Sangaré, cantora e ativista malines...  2017-09-10  ilustrada   \n",
              "2  Três reportagens da Folha foram vencedoras do ...  2017-09-10      poder   \n",
              "3  A Disney divulgou na noite desta segunda-feira...  2017-09-10  ilustrada   \n",
              "4  O CBSS, banco da holding Elopar dos sócios Bra...  2017-09-10    mercado   \n",
              "\n",
              "  subcategory                                               link  \n",
              "0         NaN  http://www1.folha.uol.com.br/poder/2017/10/192...  \n",
              "1         NaN  http://www1.folha.uol.com.br/ilustrada/2017/10...  \n",
              "2         NaN  http://www1.folha.uol.com.br/poder/2017/10/192...  \n",
              "3         NaN  http://www1.folha.uol.com.br/ilustrada/2017/10...  \n",
              "4         NaN  http://www1.folha.uol.com.br/mercado/2017/10/1...  "
            ]
          },
          "execution_count": 2,
          "metadata": {},
          "output_type": "execute_result"
        }
      ],
      "source": [
        "df = pd.read_csv(\"./data/articles.csv\", low_memory=False)\n",
        "\n",
        "df.head()"
      ]
    },
    {
      "cell_type": "code",
      "execution_count": 3,
      "metadata": {
        "colab": {
          "base_uri": "https://localhost:8080/"
        },
        "id": "vTUC_y3jjnht",
        "outputId": "9c7ed66c-a342-4ad5-d9b7-1bb253ae6bff"
      },
      "outputs": [
        {
          "name": "stdout",
          "output_type": "stream",
          "text": [
            "(167053, 6)\n"
          ]
        }
      ],
      "source": [
        "print(df.shape)"
      ]
    },
    {
      "cell_type": "code",
      "execution_count": 4,
      "metadata": {
        "colab": {
          "base_uri": "https://localhost:8080/",
          "height": 1000
        },
        "id": "p8WYkA4zigzx",
        "outputId": "dd2a4bd9-bf56-433c-c3e9-b082effc985e"
      },
      "outputs": [
        {
          "data": {
            "text/plain": [
              "category\n",
              "poder                           0.131826\n",
              "colunas                         0.129432\n",
              "mercado                         0.125529\n",
              "esporte                         0.118106\n",
              "mundo                           0.102542\n",
              "cotidiano                       0.101567\n",
              "ilustrada                       0.097843\n",
              "opiniao                         0.027087\n",
              "paineldoleitor                  0.024010\n",
              "saopaulo                        0.023675\n",
              "tec                             0.013529\n",
              "tv                              0.012822\n",
              "educacao                        0.012679\n",
              "turismo                         0.011392\n",
              "ilustrissima                    0.008446\n",
              "ciencia                         0.007991\n",
              "equilibrioesaude                0.007854\n",
              "sobretudo                       0.006327\n",
              "bbc                             0.005866\n",
              "folhinha                        0.005244\n",
              "empreendedorsocial              0.005034\n",
              "comida                          0.004957\n",
              "asmais                          0.003280\n",
              "ambiente                        0.002939\n",
              "seminariosfolha                 0.002269\n",
              "serafina                        0.001999\n",
              "o-melhor-de-sao-paulo           0.001131\n",
              "vice                            0.000874\n",
              "guia-de-livros-discos-filmes    0.000856\n",
              "topofmind                       0.000515\n",
              "banco-de-dados                  0.000383\n",
              "dw                              0.000287\n",
              "infograficos                    0.000257\n",
              "cenarios-2017                   0.000257\n",
              "especial                        0.000257\n",
              "rfi                             0.000174\n",
              "guia-de-livros-filmes-discos    0.000168\n",
              "multimidia                      0.000162\n",
              "treinamento                     0.000126\n",
              "treinamentocienciaesaude        0.000108\n",
              "mulher                          0.000096\n",
              "euronews                        0.000048\n",
              "ombudsman                       0.000018\n",
              "contas-de-casa                  0.000012\n",
              "musica                          0.000006\n",
              "2016                            0.000006\n",
              "bichos                          0.000006\n",
              "2015                            0.000006\n",
              "Name: proportion, dtype: float64"
            ]
          },
          "execution_count": 4,
          "metadata": {},
          "output_type": "execute_result"
        }
      ],
      "source": [
        "df.category.value_counts(normalize=True)"
      ]
    },
    {
      "cell_type": "code",
      "execution_count": 5,
      "metadata": {
        "colab": {
          "base_uri": "https://localhost:8080/"
        },
        "id": "EmckZz2xii9p",
        "outputId": "d933769e-c41d-481d-f2bb-ce0344c80f81"
      },
      "outputs": [
        {
          "name": "stdout",
          "output_type": "stream",
          "text": [
            "(79852, 6)\n"
          ]
        }
      ],
      "source": [
        "filtered_categories = [\"poder\", \"mercado\", \"esporte\", \"mundo\"]\n",
        "df = df[df['category'].isin(filtered_categories)]\n",
        "\n",
        "print(df.shape)"
      ]
    },
    {
      "cell_type": "code",
      "execution_count": null,
      "metadata": {
        "colab": {
          "base_uri": "https://localhost:8080/"
        },
        "id": "o9otKBk1p_Qx",
        "outputId": "f90b1a38-b1ab-435b-eeab-f77ec80e4076"
      },
      "outputs": [
        {
          "name": "stdout",
          "output_type": "stream",
          "text": [
            "Index(['title', 'text', 'date', 'category', 'subcategory', 'link'], dtype='object')\n"
          ]
        }
      ],
      "source": [
        "print(df.columns)\n",
        "\n",
        "# Generate index column to use as a unique identifier\n",
        "df = df.drop(columns=[\"date\", \"category\", \"subcategory\", \"link\"]).reset_index()"
      ]
    },
    {
      "cell_type": "code",
      "execution_count": 7,
      "metadata": {
        "colab": {
          "base_uri": "https://localhost:8080/"
        },
        "id": "UUeq6dO3j5s9",
        "outputId": "d1a65c5d-c918-4f8f-b71f-3a811f74eca0"
      },
      "outputs": [
        {
          "name": "stdout",
          "output_type": "stream",
          "text": [
            "Lojistas apostam em pontos não tradicionais buscando novos clientes - Pontos de venda incomuns, fora dos shoppings ou tradicionais comércios de rua, têm sido a aposta de empresários para renovar a clientela e cortar custos em ano de economia fraca.  Denise Schneider, 35, decidiu abrir um consultório odontológico dentro de uma escola de ensino fundamental e médio de Alvorada (RS).  Ela conta que já era proprietária de uma unidade da franquia da Ortoplan em um ponto na rua, então procurou uma alternativa.  \"Não queria fazer mais do mesmo. Então encontrei um bairro com uma escola com 800 alunos\", diz Schneider, que investirá em campanha de marketing e de conscientização sobre saúde bucal para conquistar não só os jovens mas também seus pais.  Para reduzir os riscos de baixa demanda, Schneider escolheu uma escola com espaço que permite à clínica ter uma saída para a rua e atender a clientela externa.  O sócio-fundador e presidente da Ortoplan, Faisal Ismail, diz que a rede aposta em pontos alternativos, mas para isso investe em pesquisa ainda mais extensa sobre o potencial de público.  \"E também deixamos claro que o dono do local não pode interferir no nosso negócio, para haver risco de ferir nosso código de ética\", diz.  A clínica será aberta nos próximos dias e o custo da franquia é de R$ 80 mil.  CLIENTE DIVIDIDO  Se o empreendedor consegue criar uma loja dentro de uma empresa em que está o seu público principal, os dois lados podem sair ganhando.  O economista Arthur Etgel, 66, é dono de um posto de combustíveis na Pompeia (zona oeste de São Paulo).  Ele decidiu aproveitar o intenso fluxo de clientes para abrir um novo negócio dentro do posto, uma loja da Seletti, de refeições saudáveis.  \"Tenho um movimento de cerca de 2.000 carros por dia. Oferecer esse tipo de comodidade é importante para agradar o cliente do posto\", diz.  Esta é a primeira franquia da marca em um posto de combustíveis e uma aposta da rede em pontos fora dos grandes centros comerciais.  A versão Seletti FIT tem um tamanho menor, entre 8 e 15 m², e custa R$ 150 mil, um terço dos R$ 450 mil da franquia tradicional.  \"Com o momento atual da economia no Brasil é importante ter um modelo mais em conta. É possível expandir mesmo em momento de crise\", afirma Luis Felipe Campos, fundador da empresa.  O consultor de marketing do Sebrae-SP Marcello Sinelli diz que a sinergia entre os perfis de clientes é fundamental na hora de avaliar a nova locação.  \"Pontos diferentes têm mais riscos, como infraestrutura menor ou mais possibilidade de isolamento\", diz Sinelli, que recomenda uma análise cautelosa do perfil da clientela atraída pelo local.  O empresário Hélio Garcia, 49, abriu uma lanchonete do Rei do Mate em uma unidade do magazine de equipamentos esportivos Decathlon.  O que interessou Garcia foi o público do local, que vai de 1.500 pessoas nos dias de semana ao triplo no sábado e no domingo.  \"Além de aproveitar o público da loja-mãe, tenho a vantagem de compartilhar alguns custos, como o condomínio, do qual só preciso pagar uma parte\", explica.  O Rei do Mate, cuja franquia custa R$ 300 mil, considera que aproximadamente 100 de suas 300 lojas fiquem em pontos fora do comum, como dentro de hospitais, na balsa Rio-Niterói e em empresas com muitos funcionários.  \"Vemos isso como uma alternativa de crescimento. O cliente encontra uma loja onde não espera\", afirma.  Mas a escolha de pontos diferentes exige adaptação da rede. \"É necessário ter um treinamento especial para o atendimento a cada público. Uma unidade dentro de um hospital, por exemplo, exige um atendimento mais sensível\", explica.  RISCOS  Uma das principais vantagens da escolha de um ponto fora dos shoppings e ruas tradicionais de comércio é o menor custo do aluguel.  Mas Marcello Sinelli, do Sebrae-SP, alerta que a escolha deve levar em conta também a infraestrutura necessária para o negócio dar certo.  \"Não adianta escolher um ponto diferente só porque ele é muito barato. O empreendedor primeiro tem que saber se as suas necessidades fundamentais estarão naquele local, como um estacionamento amplo\", exemplifica.  A análise do ponto incomum deve incluir também uma atenção extra à concentração e ao fluxo de pessoas, quesitos já garantidos quando se escolhem pontos tradicionais de comércio.  Essas condições podem mudar muito ao longo de um único dia. \"É recomendado que se tenha, no mínimo, de sete a dez dias de observação do ponto\", pondera Guilherme Siriani, sócio-diretor da consultoria ba}Stockler.  Outro destaque é a concorrência, que pode ficar mascarada em locais incomuns.  Siriani cita o exemplo dos empresários que abrem lojas dentro de supermercados em busca da clientela local, mas esquecem de avaliar o comércio na vizinhança.  Não é porque há um grande fluxo de pessoas passando por ali que haverá clientes, alerta Siriani.  Por isso, é preciso identificar não só o tipo de público do local para garantir que se adeque ao produto como também se há demanda.  Caminho seguro Veja se as medidas necessárias para decidir se vale a pena ter uma loja em um local incomum  * O básico Cheque se o local escolhido é capaz de oferecer a infraestrutura básica para o negócio dar certo (seja cozinha, estacionamento amplo, espaço para estoque et.)  * Observe Visite o local desejado durante vários dias, em vários horários, para conhecer como é a flutuação do público  * Competição Não é porque está fora do shopping que não há concorrência; analise se não há lojas nas proximidades que \"roubem\" os clientes  * Proteção Exija cláusula de vigência no contrato de aluguel; ela garante que, se o imóvel for vendido, o novo dono é obrigado a respeitar o contrato de locação até o final  * Prazo Escolher um local diferente sempre é uma aposta de risco: faça um contrato de aluguel mais curto para evitar prolongar o prejuízo  * Licença Não é qualquer lugar que permite abrir um negócio; verifique se a zona é liberada e como obter a papelada  Fontes: Sebrae-SP e consultoria ba}Stockler\n",
            "\n",
            "\n",
            "Coordenador diz que não conhece os documentos - Ex-integrantes da comissão não souberam explicar por que a documentação inédita não foi incluída no relatório final, apresentado em dezembro e que não trouxe nenhuma revelação sobre o período.  \"Não sei dizer se comemos mosca, o que é péssimo, ou se foi uma decisão política, o que não acredito ter acontecido\", afirmou Maria Rita Kehl.  Último coordenador e responsável por fechar o documento final, Pedro Dallari disse desconhecer a documentação, apesar do parecer elaborado pelos historiadores. Ele ressaltou que torce para o relatório ser \"rapidamente superado\" por novas descobertas.  Os comissários José Paulo Cavalcanti e José Carlos dias não quiseram falar a respeito.  Ex-pesquisadores afirmaram que todos os comissários tomaram conhecimento da documentação. Ainda segundo eles, Casa Civil e a Presidência da República também foram avisadas. \"A responsabilidade pela análise, interpretação e utilização de documentos é exclusiva da comissão e jamais foi de competência da Casa Civil e da Presidência\", respondeu o governo federal em nota.  A maior parte da documentação, arquivada na Universidade de Minas Gerais, está relacionada à sistematização dos arquivos militares. São fichas que ex-pesquisadores acreditam ser a prova de que ainda há um arquivo desconhecido em poder das Forças Armadas –elas sempre alegaram que esses papéis não existem ou já foram destruídos.  Um setor do grupo queria acionar o Ministério Público Federal para auxiliar na busca do arquivo, mas o pedido nunca seria formalizado.  Há ainda documentos do Cenimar (Centro de Informações da Marinha), Cisa (o equivalente da Aeronáutica) e CIE (Exército).\n",
            "\n",
            "\n",
            "Com dois gols de Fagner, Corinthians vence e garante vantagem nas finais - Classificado por antecipação para as quartas de final do Paulista, o Corinthians entrou em campo contra o Novorizontino, pela última rodada da primeira fase, com um time misto.  Porém, mesmo com a falta de entrosamento na Arena em Itaquera, o time alvinegro não encontrou dificuldades neste domingo (10) e venceu por 3 a 0. Os gols do triunfo foram de Fagner (2) e Alan Mineiro.  Pensando na sequência do Estadual e da Copa Libertadores, o técnico Tite modificou bastante a equipe em relação ao jogo contra o Santa Fe, na Colômbia. O goleiro Cássio e os atacantes Lucca e André foram alguns dos poupados.  O jogo começou morno. As duas equipes priorizaram o toque de bola no meio de campo com pouca velocidade. O forte calor no horário do jogo, cerca de 28 graus, fazia os times cadenciarem as ações.  Veja vídeo  Sem efetividade no ataque, não havia sequer um chute a gol de ambas equipes até os 30 min.  Quando o jogo já se encaminhava para o final do primeiro tempo, o lateral Fagner acertou um belo chute da entrada da área para abrir o marcador.  Já nos acréscimos, Luciano recebeu bom passe e saiu na cara do gol, mas parou em defesa do goleiro Veloso.  Na volta do intervalo, aos 2min, uma ótima triangulação entre Elias, Danilo e Fagner acabou com o segundo gol do lateral no jogo.  Com o placar favorável, o Corinthians se soltou, envolveu o time visitante e levou perigo para o gol do adversário.  Apesar do bom volume de jogo no segundo tempo, a equipe corintiana procurou não se desgastar e administrou o placar.  Aos 43min, Alan Mineiro, que havia entrado no lugar de Danilo, limpou o lance e acertou um belo chute da entrada da área para marcar o terceiro gol.  Com a vitória, o Corinthians chegou aos 35 pontos e terminou a primeira fase na liderança do grupo D e da classificação geral do Paulista.  O Novorizontino, que tinha chances de se classificar para as quartas de final, ficou com os mesmos 21 pontos e terminou em quarto no grupo B.  Na próxima fase, o Corinthians vai enfrentar em jogo único o Red Bull Brasil, em dia e horário a serem definidos nesta segunda-feira (11). Por ter a melhor campanha, o time de Tite joga em casa.  Tabela e resultados do Campeonato Paulista 2016\n",
            "\n",
            "\n",
            "Inter de Milão vai aposentar camisa do argentino Zanetti - A Inter de Milão anunciou que vai aposentar a camisa de número 4, que foi usada pelo argentino Javier Zanetti, 41.  \"Ninguém mais vai vestir a número 4\", disse Erick Thohir, presidente da Inter.  Zanetti jogou 815 partidas pelo clube de Milão de 1995/95 a 2013/14. Entre os títulos mais importantes está a Liga dos Campeões de 2009/10.  No dia 4 de maio, o argentino, que se aposentou em 2014, participará de uma partida beneficente em Milão e será homenageado pelo clube.\n",
            "\n",
            "\n",
            "Audax vai instalar telões para a final no estádio José liberatti - Com os 700 ingressos esgotados desde a última segunda-feira (2), a diretoria e patrocinadores do Audax vão instalar dois telões no estádio José Liberatti para os moradores da cidade de Osasco acompanharem o segundo jogo da decisão do Campeonato Paulista, marcado para domingo (8), às 16h, na Vila Belmiro.  De acordo com o clube, os portões do estádio estarão abertos a partir das 12h e a expectativa é que ao menos cinco mil pessoas acompanhem o jogo no local.  A prefeitura e a equipe preparam algumas atrações para entreter os torcedores até o início da partida. Músicos da cidade vão se apresentar em um palco que será montado no centro do gramado. O local também terá um espaço reservado para as crianças.  Como Audax e Santos empataram por 1 a 1, o vencedor do segundo jogo fica com o título. Em caso de empate, o campeão será conhecido nas cobranças de pênaltis.  TRIO ELÉTRICO  Caso o Audax conquiste o título do Campeonato Paulista, os jogadores vão desfilar pela cidade de Osasco em um trio elétrico. Após a carreata, os jogadores devem ir para o estádio José Liberatti.  INGRESSOS  De acordo com o Santos, todos os ingressos para a partida estão esgotados desde segunda-feira. O clube da Vila Belmiro informou que 11 mil entradas foram adquiridas pelos sócios-torcedores, que têm prioridade. Outros cinco mil bilhetes não serão comercializados porque estão reservados para os donos de cadeiras cativas e especiais. O Audax teve direito a 700 ingressos\n",
            "\n",
            "\n",
            "Temer acerta com Lopes adiamento de decisão sobre Aviação Civil - O vice-presidente Michel Temer acertou nesta terça-feira (15) com o deputado federal Mauro Lopes (PMDB-MG) o adiamento da decisão sobre a nomeação do peemedebista para o comando da Secretaria da Aviação Civil.  Em almoço, eles concordaram em informar ao Palácio do Planalto a decisão de esperar mais uma semana antes de anunciar uma definição, como antecipou a Folha.  O objetivo é avaliar melhor o cenário político, sobretudo diante dos protestos pelo impeachment no domingo (13) e a homologação nesta terça-feira (15) de delação premiada do senador Delcídio do Amaral (PT-MS).  Na semana passada, o ministro da Casa Civil, Jaques Wagner, convidou o peemedebista a assumir a pasta nesta terça-feira (15). Na segunda-feira (14), no entanto, o governo federal foi informado que Lopes tinha dúvidas em ser nomeado neste momento e preferia que a decisão fosse tomada na semana que vem.  A sinalização causou preocupação à presidente, que, em reunião com seis ministros do PMDB, questionou a possibilidade do peemedebista recuar do convite. No encontro, contudo, ela foi informada de que não havia essa possibilidade.  O adiamento ocorre no momento em que o PMDB iniciou debandada do governo federal. Na segunda-feira (14), a presidente foi pega de surpresa com o anúncio dos presidente da Embratur, Vinícius Lummertz, e da Eletrosul, Djalma Berger, de deixarem a chefia dos órgãos públicos.  Os dois acompanharam decisão do diretório estadual do PMDB de Santa Catarina de desembarcar da Esplanada dos Ministérios.  Em reação, a presidente iniciou articulação para evitar a saída do partido no momento que a Câmara dos Deputados deve retomar a análise do pedido de impeachment da petista.\n",
            "\n",
            "\n",
            "Segundo na eleição presidencial portuguesa pede aliança de esquerda - Segundo colocado nas pesquisas para a eleição presidencial de Portugal, o ex-reitor da Universidade de Lisboa António Sampaio da Nóvoa, 61, tenta forçar o segundo turno com Marcelo Rebelo de Sousa no fim da campanha.  Com 17% das intenções de voto (contra mais de 50% do líder), o candidato independente recebeu o apoio do premiê António Costa, mas divide o eleitorado de esquerda com Maria de Belém Roseira.  Em entrevista à Folha na última quarta-feira (20), Sampaio da Nóvoa disse que, como em pleitos anteriores, a esquerda deverá se unir com quem for para o segundo turno —ele é quem tem maiores chances.  Em Portugal, teve o respaldo dos ex-presidentes Ramalho Eanes, Mário Soares e Jorge Sampaio. O ex-presidente Fernando Henrique Cardoso e o senador Cristovam Buarque (PDT-DF) (ele é doutor honoris causa da Universidade de Brasília) —são os brasileiros que o apoiam.  Leia trechos da entrevista:  *  Folha - Apesar da situação econômica ruim, Portugal parece melhor que países com crises similares. Como o senhor vê a política de austeridade do governo passado?  António Sampaio da Nóvoa - Elas prejudicaram muito Portugal. Houve equilíbrio de contas públicas, mas no médio e longo prazo temos baixo crescimento, jovens qualificados e cientistas emigrando, muitas empresas saindo do país. É preciso inverter essa situação.  ELEIÇÕES EM PORTUGAL - País vota para presidente neste domingo, 24  Como ficaria a relação com o governo de António Costa?  Desde a Revolução [dos Cravos, em 1974], nunca tivemos um governo com maioria de partidos à esquerda. Devemos olhar para isso com prudência mas também confiança, respeitando alternativas e construindo consensos.  Como vê as alianças para um segundo turno?  Há uma tradição na esquerda portuguesa de vários candidatos. O primeiro turno funciona como uma primária. A união em torno de apenas um candidato deverá se dar naturalmente.  Como seria possível tirar a vantagem de Rebelo de Sousa?  Se olharmos a história, é mais difícil passar para o segundo turno que ganhá-lo. Se ele não ganhar no primeiro turno, a eleição está aberta.  Vê possibilidade de nova eleição se um dos partidos da aliança deixar o governo?  Temos muita confiança de que vai ser possível fazer com que este governo dure uma legislatura [quatro anos]. Se não acontecer, vamos tomar medidas adequadas para o bem de todos os portugueses.  Como vê a relação com Brasil?  O Brasil é uma dimensão central de Portugal. Nos últimos 40 anos, Portugal ficou muito virado para a Europa, que é essencial para nós. Mas precisamos entrar numa fase atlântica, de relação privilegiada com o Brasil e com os países que falam português.  O sr. apoia a proposta de conceder cidadania a filhos de netos de portugueses?  Apoio. Precisamos inclusive caminhar para uma cidadania dos países da língua portuguesa com direitos iguais para todos.\n",
            "\n",
            "\n",
            "Hoje na TV: Boavista x Porto, pelo Português - 17h - Boavista x Porto, Português, ESPN Brasil e SporTV  16h - Barretos x América, Liga de Basquete Feminino, SporTV 2  19h - Mirassol x Comercial, Paulista Série A-2, SporTV  21h - Georgia Tech x Louisville, basquete universitário, ESPN +\n",
            "\n",
            "\n",
            "Banco estatal chinês tenta comprar o brasileiro BBM, dizem jornais - O Banco de Comunicações da China, de propriedade estatal e quinto maior do país, tenta um acordo para tomar o controle do brasileiro Banco BBM, segundo informou nesta sexta-feira à Agência EFE Dow Jones uma fonte conhecedora da operação.  A decisão do Banco de Comunicações, com sede em Xangai, foi revelada pouco antes da viagem que o primeiro-ministro chinês, Li Keqiang, realizará pelo Brasil e outros três países sul-americanos na próxima semana, momento em que poderia anunciar esta operação.  A China é o principal parceiro comercial do Brasil, e grande compradora de commodities do país, em especial soja e minério de ferro. Nos últimos anos, tratou de aumentar a presença de seus bancos no país latino-americano e na região.  Em 2013, o Banco de Construção da China comprou o brasileiro BicBanco por R$ 1,62 bilhão (valor não corrigido pela inflação).  O acordo do Banco de Comunicações chinês com Banco BBM seria uma aquisição relativamente pequena para a instituição asiática, já que a entidade brasileira contava com US$ 1 bilhão (R$ 2,98 bilhões) em ativos no final de 2014, segundo seu site.  Além desta operação, durante a visita do líder chinês ao Brasil, Peru, Colômbia e Chile serão divulgados mais convênios entre entidades chinesas e latino-americanas.  O Brasil espera concretizar negócios com um valor total de aproximadamente R$ 163 bilhões através de 30 acordos durante a visita de Li, explicou nesta quinta-feira (14) o subsecretário-geral do departamento de Política da Chancelaria brasileira, José Alfredo Graça Lima.  O Banco Industrial e Comercial da China (ICBC), o maior do mundo no valor de ativos, planeja criar um fundo de até US$ 50 bilhões que seria administrado pela Caixa Econômica Federal, disse outra fonte conhecedora ao \"The Wall Street Journal\".  Uma das prioridades desse fundo seria investir em projetos de infraestruturas para o Brasil, segundo a mesma fonte.  As autoridades de ambos países preveem assinar, junto aos acordos financeiros, convênios de venda de aviões da empresa brasileira Embraer a companhias aéreas chinesas e para a construção de um corredor ferroviário transoceânico entre o nordeste do Brasil, no oceano Atlântico, e o litoral peruano do Pacífico.\n",
            "\n",
            "\n",
            "Em Viena, Irã e grandes potências discutem últimos pontos de acordo - Os ministros das Relações Exteriores do grupo P5+1 (EUA, Rússia, China, França e Reino Unido, mais a Alemanha) e do Irã retomam em Viena, neste domingo (5) e nesta segunda (6), as negociações políticas para um acordo definitivo sobre o programa nuclear iraniano, após dois dias e meio de ajustes técnicos.  As partes estabeleceram um prazo até terça-feira (7) para fechar um compromisso político que limite as atividades nucleares iranianas e garanta seu uso exclusivamente pacífico, e que, por outro lado, suspenda as sanções internacionais que há anos estrangulam a economia da República Islâmica.  Os chefes das diplomacias dos Estados Unidos, John Kerry, e do Irã, Mohammed Javad Zarif, se reuniram nesta manhã no luxuoso hotel onde as conversas acontecem a portas fechadas, tanto em nível técnico como político.  Espera-se para este domingo o retorno à mesa de negociação dos chanceleres da França, Laurent Fabius; da Alemanha, Frank-Walter Steinmeier; e da União Europeia (UE), Federica Mogherini.  Para esta segunda está prevista a chegada dos ministros de Relações Exteriores da Rússia, Sergei Lavrov, e da China, Wang Yi, e não se sabe quando chegará o do Reino Unido, Philip Hammond.  O plano é que todos os negociadores reassumam as negociações no mais tardar terça-feira de manhã, o dia em que vence o atual prazo.  Até então, os analistas das delegações continuam limando as diferenças técnicas de um projeto do texto que, segundo vazou à imprensa, estaria quase completamente formulado.  Mas ainda há divergências para trabalhar, reconheceu neste sábado (4) à noite o vice-ministro de Relações Exteriores iraniano, Abbas Araghchi, em entrevista à televisão de seu país, IRIB.  Falta principalmente estabelecer a coordenação das checagens de cumprimento do tratado pelo Irã com o ritmo e a forma de suspensão das sanções impostas pelos EUA, pela UE e pelas Nações Unidas, assunto que, segundo Araghchi, deverá ser tratado em nível político pelos ministros.  A verificação do cumprimento dos compromissos iranianos será de responsabilidade, uma vez assinado o acordo, da Agência Internacional de Energia Atômica (AIEA).  Apesar das dificuldades, Araghchi destacou os avanços conseguidos até agora, e disse acreditar ser \"possível\" alcançar um acordo no prazo fixado. Ele assegurou que \"nunca antes\" as negociações tinham avançado tanto como nos últimos dias.  Mas o alto negociador iraniano advertiu, segundo a agência Irna, que ainda não se pode descartar um fracasso, pois seu país não aceitará um acordo \"ruim\".  O Irã sempre negou qualquer intenção de fabricar armas atômicas, mas as potências ocidentais não confiam nisso e acusam o país de não permitir inspeções suficientes da AIEA para comprovar o caráter pacífico de seu projeto.\n",
            "\n",
            "\n",
            "Rússia afirma que intensificará ataques aéreos na Síria - A Rússia disse neste sábado (3) que aumentará os bombardeios na Síria e que pretende cooperar com todos os países interessados após conduzir mais de 60 ataques em 72 horas no país.  \"Não apenas daremos continuidade aos ataques. Também elevaremos sua intensidade\", disse Andrei Kartapolov, subchefe do Estado-Maior do Exército da Rússia, segundo a agência de notícias RIA.  O general afirmou à imprensa local que, desde o início da intervenção militar russa na Síria, na quarta-feira (30), o país efetuou mais de 60 voos e destruiu mais de 50 alvos do EI.  \"Os serviços de inteligência informaram que os guerrilheiros abandonaram os territórios sob seu controle. Cerca de 600 mercenários deixaram suas posições e tentam chegar à Europa\", afirmou Kartapolov.  \"Em três dias conseguimos minar a base técnico-militar dos terroristas e também reduzir em grande medida seu potencial de combate\", continuou.  Kartapolov destacou que os caças, bombardeiros e caças-bombardeiros russos \"lançaram ataques 24 horas por dia desde a base aérea de Jmeimim (perto de Latakia) até o interior do território da Síria\".  Ele ressaltou que os alvos russos são os centros de comando, arsenais, armazéns de munição e explosivos, fábricas de armas, redes de comunicação e campos de treinamento dos grupos terroristas jihadistas.  Na sexta-feira (2), a coalização liderada pelos EUA pediu que a Rússia parasse de atacar os rebeldes sírios e concentrasse seus esforços para enfraquecer o EI. Moscou admitiu que tem outros alvos além do Estado Islâmico, mas negou que seus ataques têm acertado rebeldes sem ligação com o terrorismo.  A guerra civil na Síria já deixou mais de 250 mil mortos e forçou o deslocamento de 11 milhões de pessoas em quatro anos e meio. O EI declarou em agosto de 2014 um califado em áreas da Síria e do Iraque, onde impôs um regime fundamentalista.\n",
            "\n",
            "\n",
            "Crises financeira e política levam prefeitos a desistirem da reeleição - Eleitos para prefeituras há quatro anos, um prefeito de capital, sete de cidades médias e vários de cidades pequenas anunciaram que não vão disputar um novo mandato em outubro.  A dificuldade financeira das prefeituras, a possibilidade de punições nos Tribunais de Contas e a dificuldade em arrecadar fundos para a campanha são os principais motivos das desistências.  Os desistentes são de cidades de diversas partes do país, como Florianópolis (SC), Londrina (PR), Itabuna (BA), Caxias do Sul (RS) e Pelotas (RS).  Desde a aprovação da emenda da reeleição em 1997, a taxa de prefeitos aptos a concorrer novo mandato que desistiram da disputa nas urnas varia entre 23% e 38%.  Nas eleições deste ano, quando 4.258 dos 5.568 prefeitos estão aptos à reeleição, a expectativa é de um índice alto de desistência.  \"Pelas conversas com os prefeitos, esse número será crescente\", diz Paulo Ziulkoski, da Confederação Nacional dos Municípios.  O prefeito de Florianópolis, César Souza Júnior (PSD), 37, é um dos que citam a crise financeira e a necessidade de medidas impopulares como principais motivos.  Ele será o único prefeito de capital que, mesmo apto à disputa, não vai às urnas este ano.  Reeleição - Percentual de prefeitos que disputarão eleição caiu  \"A agenda de um candidato acaba turvando a gestão, não é compatível com as medidas necessárias para fechar as contas do ano\", afirma Souza Júnior à Folha.  Em Londrina, segunda maior cidade do Paraná, outro jovem prefeito desistiu de ir às urnas. Alexandre Kireeff (PSD), 49, comunicou a decisão aos eleitores em uma rede social afirmando que sai para focar na gestão e dar espaço a novos nomes.  Em outras cidades médias, como Itabuna, no sul da Bahia, a dificuldade de financiamento da campanha foi ponto determinante. O prefeito Claudevane Leite (PRB) disse que não iria para disputa por não ter \"R$ 5 milhões para gastar na reeleição\".  SEM DINHEIRO  Nas cidades menores o cenário ainda é pior. Na Bahia, pelo menos 15 prefeitos de municípios pequenos anunciaram nos últimos meses que não vão disputar novo mandato.  Em Queimadas, de 26 mil habitantes, o prefeito Tarcísio de Oliveira (PR) diz que decidiu não disputar novo mandato para \"não quebrar a prefeitura\".  A cidade, que vive basicamente de repasses estaduais e federais, tem um orçamento mensal de R$ 3 milhões, mas diz gastar R$ 1,2 milhão só com a folha de pessoal da Educação.  Segundo o prefeito, se disputasse um novo mandato, ele fecharia as contas no vermelho e \"armaria uma bomba\" para si mesmo.  \"Quem vai para a disputa, não quer perder. Então, preferi tirar das costas o peso de ter que fazer barganha política e usar a máquina pública\", diz Oliveira, que não quis nem indicar um possível sucessor. Seus aliados lançarão dois candidatos.  Orlando Santiago (PSD), que está no quinto mandato como prefeito de Santo Estêvão (150 km de Salvador), afirma que este foi o período mais difícil em que geriu a prefeitura, com queda na arrecadação e aumento nas despesas.  E diz que não quer mais: \"Tenho mais de 70 anos, estou velho e cansado para tanto problema\".  Reeleição Prefeitos\n",
            "\n",
            "\n",
            "Sobreviventes de massacres nos EUA lamentam falta de mudanças no país - O tiroteio mais mortífero na história americana moderna faz pessoas do mundo inteiro se perguntarem por que a violência em massa continua acontecendo nos EUA.  Para os que vivenciaram essas chacinas, e para as autoridades judiciais que tentam impedi-las, a resposta é evidente.  \"Porque nós as permitimos\", disse Sandy Phillips, cuja filha estava entre os 12 assassinados em um cinema no Colorado em 2012.    O país começou esta semana de luto pelas 49 pessoas mortas na madrugada de domingo (12), quando um atirador usando um fuzil e uma pistola abriu fogo dentro de uma boate gay lotada em Orlando, na Flórida.  CONTROLE DE ARMAS NOS EUA - Maior controle, em %  CONTROLE DE ARMAS NOS EUA - Direito ao porte, em %  As autoridades estão investigando se o ataque foi um ato de terrorismo, um crime de ódio ou ambos. Políticos lamentaram a violência como algo tragicamente familiar, apesar de sua escala inacreditável.  As causas dos massacres são tão díspares quanto os próprios casos. Mas os envolvidos em outras tragédias não puderam deixar de perceber semelhanças.  O presidente Barack Obama chamou o último tiroteio de \"mais um lembrete de como é fácil alguém pôr as mãos numa arma que lhes permite matar pessoas em uma escola, uma igreja, um cinema ou uma boate. \"E temos de decidir se esse é o tipo de país que queremos ser.\"  O massacre em Orlando provoca ecos do ataque no ano passado a um centro de serviços sociais em San Bernardino, na Califórnia. Para Ryan Reyes, cujo namorado foi morto em San Bernardino, os tiroteios têm menos a ver com o controle de armas e mais com a retórica política e o modo como as pessoas se tratam.  \"O problema é a sociedade americana\", disse ele. \"Nós somos os culpados, e o fato de que nos recusamos a aceitar que somos culpados só piora tudo. É o que nós fazemos aos outros que leva essas pessoas ao ponto de achar que essa é a única opção.\"  Phillips disse que até as chacinas mais terríveis provocaram poucas mudanças.  A melhor oportunidade poderia ter sido quando um atirador em Newtown, Connecticut, matou 20 alunos da escola primária e seis adultos em uma escola em Sandy Hook, poucos meses depois do tiroteio no cinema no Colorado.  LEGISLAÇÃO  Obama dedicou grande parte do início de seu segundo mandato a defender uma legislação para aumentar as verificações de ficha policial, proibir certas armas no estilo de assalto e limitar o tamanho dos pentes de munição.  Essa medida desmoronou no Senado, e desde então a formação política do Congresso fez as novas leis para armas parecerem fora de alcance. Quando os políticos conseguem impor medidas mais duras sobre armas, põem em risco suas carreiras.  No Colorado, pouco depois do massacre no cinema e ainda se curando da chacina de 1999 no colégio Columbine, em que dois estudantes mataram 13 pessoas e a si próprios, os legisladores estaduais democratas apresentaram em 2013 novas leis que exigiam a verificação universal de ficha policial e a proibição de pentes com mais de 15 projéteis.  Os defensores do controle de armas consideraram isso uma vitória, até que advogados dos direitos às armas, enfurecidos, forçaram dois senadores estaduais que apoiavam as restrições a deixar o cargo.  \"Poderíamos ter feito algo sobre isso nesses anos depois de Columbine, ou de Sandy Hook\", disse Marcus Weaver, que foi ferido no tiroteio no cinema e teve um amigo morto. \"Quando será suficiente?\"  O senador republicano Ron Johnson, do Wisconsin, presidente da Comissão de Segurança Interna e Assuntos Governamentais do Senado, discordou de que a solução sejam leis mais duras sobre armas.  \"Acho que há outras causas em jogo na raiz\", disse ele. \"Acho que a saúde mental é um grande problema. Um dos motivadores é realmente que o Estado Islâmico continua existindo, o terror islâmico em outras formas continua existindo.\"  Muitos assassinos em massa foram diagnosticados com severos problemas psicológicos, incluindo o do cinema no Colorado e o homem que tentou assassinar a congressista do Arizona Gabby Giffords em 2011.  Jeremy Richman e sua mulher, Jennifer Hensel, cuja filha de seis anos, Avielle, foi morta em Sandy Hook, criaram uma fundação para ajudar a entender os alicerces da violência e suas ligações com a saúde mental.  \"Precisamos identificar quem precisa de ajuda e por que não a estão recebendo\", disse ele, acrescentando que todo mundo precisa fazer seu papel para produzir a mudança.  Tradução de LUIZ ROBERTO MENDES GONÇALVES\n",
            "\n",
            "\n",
            "Impeachment de Dilma ganhou ares de golpe, diz francês 'Libération' - Em um país em recessão, a revolta popular foi instrumentalizada por políticos corrompidos para depor a presidente Dilma Rousseff, escreve a correspondente do jornal francês \"Libération\" Chantal Reyes. \"Sabemos agora que as motivações para destituí-la não tinham nada de nobre\", diz, antes de resumir as conversas reveladas pela Folha nas quais Romero Jucá (PMDB-RR) defende uma \"mudança de governo para parar tudo\", ou seja, frear as investigações do gigantesco escândalo de desvio de recursos da Petrobras.  A conversa entre Jucá e Sérgio Machado, ex-diretor da Petrobras, traz para dentro do escândalo o PSDB, partido de oposição, de centro-direita. Mas o que é pior, segundo o \"Libération\", é que o Supremo Tribunal Federal, de acordo com a conversa registrada, pensava que destituir a chefe de Estado reduziria a pressão popular sobre a Lava Jato.  Para a publicação, \"a legitimidade do governo interino está mais comprometida do que nunca\" e a única \"caução\" deste governo é o ministro da Fazenda, Henrique Meirelles, respeitado pelos mercados.  Mas o PT também não está a salvo, lembra o texto, ao relatar as pressões do partido para que Dilma freasse a investigação que ela faz questão de ressaltar jamais ter interferido.  \"Libération\" elabora uma lista de perguntas que ainda precisam ser esclarecidas depois dessas \"revelações explosivas\": Há quanto tempo o procurador-geral da República tinha essas gravações nas mãos? Por que as conversas, gravadas em março, ou seja, antes do voto no Congresso que determinou a abertura do processo de impeachment, não foram divulgadas antes?  O que esse \"presente da Folha para a esquerda\" deixa evidente é a deterioração de toda a classe política, diz o texto. Em tom crítico, \"Libération\" comenta a pouca disposição do PT, que durante 13 anos no poder não fez a reforma do sistema eleitoral que é um \"convite à corrupção\".  \"Dificilmente a presidente vai recuperar seu cargo, mas também é pouco provável que haverá eleições gerais antecipadas no país\" finaliza o texto.    TEMER  As primeiras medidas econômicas anunciadas pelo presidente interino Michel Temer ganharam destaque no jornal francês \"Les Echos\". \"Temer quer impor uma disciplina orçamentária no Brasil\", diz a manchete da reportagem.  Um dia após a saída de Romero Jucá do ministério do Planejamento, e apesar do clima de escândalo político que paira sobre Brasília, o governo lançou as bases de sua política econômica para restaurar a confiança e retomar o caminho do crescimento após dois anos de recessão, escreve o correspondente do jornal Thierry Ogier.  A principal orientação é a disciplina orçamentária, com limitação do déficit público e menos poder para o BNDES, fonte nos últimos anos de créditos subsidiados, o que agravou o endividamento público.  \"Les Echos\" informa que o presidente interino Michel Temer irá propor uma emenda constitucional para limitar o crescimento das despesas públicas ao da inflação. As reservas serão liquidadas para reduzir o déficit. Outro ponto sensível do plano, segundo o jornal, é a maior abertura do setor petrolífero aos investimentos privados, o que significa um freio à onipresença da Petrobras.  O jornal francês repercute o pouco entusiasmo dos mercados com o anúncio das propostas econômicas, especialmente a reação da Bolsa de São Paulo. Os investidores ainda reagiram sob o impacto da demissão no dia anterior de Romero Jucá.  O ex-ministro era uma peça central para cimentar uma base de apoio no Congresso, que ele conhece como a palma de sua mão. É a credibilidade e a adoção da política econômica em um contexto político delicado que estão em jogo, diz Les Echos.\n",
            "\n",
            "\n",
            "Presidente do BC tenta acalmar mercado após dólar avançar 8% - O presidente do Banco Central, Ilan Goldfajn, afirmou nesta quinta-feira (18) que, neste momento de crise política, o trabalho do BC tem que ser \"contínuo, sereno e firme\".  Declarou ainda que o BC e o Tesouro Nacional estão atuando de forma conjunta para acalmar o mercado. \"Estamos fazendo nosso papel, que é o papel do BC, que é manter a funcionalidade do mercado, trabalhando de forma serena, de forma firme, usando os instrumentos que a gente tem\", afirmou antes de reunião com o ministro da Fazenda, Henrique Meirelles.  Goldfajn lembrou que a autoridade monetária interviu no mercado nesta quinta através de leilões de swaps, operações que equivalem à venda de dólares no mercado futuro.  Mesmo assim, o dólar comercial encerrou o dia com forte alta de 8,16%, para R$ 3,390. Foi a maior valorização desde 5 de março de 2003. O dólar à vista, que fecha mais cedo, teve ganho de 8,68%, para R$ 3,373.  \"Estivemos intervindo no mercado de swap em coordenação com o Ministério da Fazenda, com o Tesouro Nacional, que anunciou alguns leilões\", disse, referindo-se ao anúncio do Tesouro de que realizará leilões extraordinários de títulos públicos nesta sexta (19), segunda (22) e terça (23) visando reduzir a volatilidade dos mercados.  \"Temos vários instrumentos e estamos trabalhando para acalmar o mercado, pra atravessar esse período, e é um trabalho contínuo, um trabalho sereno, um trabalho firme\".  Questionado de a política monetária muda a partir de agora, Goldfajn respondeu que essa é \"uma questão separada\". \"A política monetária é uma questão separada. A questão em que estamos atuando hoje não tem relação mecânica com a política monetária, é uma decisão tomada nas reuniões ordinárias do Copom [Comitê de Política Monetária]\".  Depois da entrevista, o Banco Central anunciou que fará leilões de swap cambial tradicional, que equivalem a venda de dólares no mercado futuro, nesta sexta (19), segunda (22) e terça (23). De acordo com o BC, em cada leilão serão oferecidos 40 mil contratos ou US$ 2 bilhões. \"As condições gerais serão objeto de comunicado que precederá cada evento\", disse a autoridade monetária em nota.  Índice Bovespa - Em pontos  DÓLAR - EM R$  O DÓLAR VINHA EM QUEDA - A expectativa de aprovação das reformas trabalhista e da Previdência vinha colaborando para a queda da moeda americana em relação ao real  O IMPACTO NAS EMPRESAS - Variação no valor de mercado no Ibovespa<br><br><b>Valor de mercado, em R$ bilhões</b>  Bolsas pelo mundo também tiveram dia de queda -  A BOLSA VINHA EM SUBIDA CONSTANTE - A perspectiva de retomada da economia levava os investidores a apostarem em resultados melhores das empresas, impulsionando o Ibovespa, que reúne as ações mais negociadas na Bolsa\n",
            "\n",
            "\n",
            "Com voz falha, May pede união de conservadores para negociar 'brexit' - Uma semana após ser fortemente criticada pela aparente falta de liderança do Reino Unido nas negociações do \"brexit\", durante a convenção da oposição trabalhista, a primeira-ministra britânica, Theresa May, defendeu nesta quarta (4) seu governo e a união do seu partido ao encerrar o congresso dos conservadores, em Manchester, no norte da Inglaterra.  Em um discurso direcionado a seus correligionários, May pediu o fim das brigas internas do partido. Ela declarou ainda que o governo tem um \"dever\" com o país e deve se preocupar com o emprego dos trabalhadores comuns, não com o dos políticos.  O discurso chamou atenção pelas frequentes tosses e falhas na voz da primeira-ministra, que atrapalharam sua fala. Além disso, um manifestante interrompeu seu discurso para entregar a ela uma carta de demissão falsa, em protesto contra o governo.  A primeira-ministra disse entender que alguns britânicos estejam achando as negociações do \"brexit\" frustrantes, mas afirmou que o governo está se planejando para todas as eventualidades nas negociações e que está confiante em conseguir chegar a um acordo bom para o Reino Unido e para a União Europeia.    LIDERANÇA  Desde o domingo (1º) quando começou o encontro dos Tory, como o Partido Conservador é conhecido, May e seus ministros tentaram reafirmar sua liderança, tentando apagar o fracasso da legenda nas últimas eleições legislativas, quando perderam a maioria do Parlamento e tiveram sua autoridade reduzida.  \"Vamos cumprir nosso dever com o país. Vamos avançar e dar ao país o governo de que ele precisa\", disse.  A declaração pode ser interpretada também como uma resposta às críticas feitas pelo líder trabalhista, Jeremy Corbyn, uma semana antes.  Ao encerrar a conferência do seu partido, em Brighton, Corbyn criticou o que chamou de desorganização do governo e disse que o Labour está no limiar de voltar ao poder no Reino Unido. \"Se organize ou saia do caminho\", disse, se referindo a May.  DISPUTAS INTERNAS  O discurso de May por união foi feito em meio a fortes disputas internas no governo. Vários de seus ministros se pronunciaram recentemente —de forma pública e privada— contra a atuação do secretário de Relações Exteriores, Boris Johnson.  Na terça-feira (3), o Parlamento Europeu atacou a atuação do governo de May durante as negociações de sua desfiliação da União Europeia. O líder do maior partido do Legislativo da UE, Manfred Weber, disse que as disputas internas do gabinete estão colocando um acordo em risco e pediu que May demitisse seu ministro das Relações Exteriores.  Johnson discursou na conferência Tory um dia antes de May. Ele elogiou a primeira-ministra May por assumir a responsabilidade de fazer do 'brexit' um sucesso, e disse que os membros do governo apoiam cada sílaba de seus planos de saída da União Europeia.  Segundo Johnson, apesar do resultado frustrante para os conservadores na eleição, May saiu vencedora.  \"Todo o país tem uma dívida com ela por sua firmeza em levar o Reino Unido adiante, como ela vai fazer, para um ótimo acordo do Brexit, com base naquele discurso de Florença, do qual cada sílaba, eu posso te dizer, todo o governo apoia\", disse Johnson.  DONZELA DE GELO  Apesar de ter tratado de diversos temas políticos sobre a atuação do governo, May também usou o seu discurso em Manchester para tentar dar um rosto \"mais humano\" a sua atuação no governo. A primeira-ministra também tentou se aproximar de eleitores mais jovens.  May disse não se importar de ser chamada de \"Donzela de Gelo\", e se disse muito triste de não ter filhos. Sua intenção é usar sua história de vida para quebrar a imagem de robô que muitos têm dela —desfazendo o apelido de \"maybot\" (mistura do seu nome com a palavra \"robot\") que ganhou por isso, segundo o jornal \"The Guardian\".\n",
            "\n",
            "\n",
            "China ampliará abertura de setores a investimento privado, diz governo - A China vai ampliar a abertura de setores como os de telecomunicações, aeroportos e exploração de petróleo e gás para empresas privadas, afirmou o gabinete chinês nesta quarta-feira (22), em um esforço para conter uma queda recorde no crescimento do investimento privado.  As políticas chinesas para encorajar o investimento privado foram afetadas por problemas, disse o gabinete em comunicado após reunião comandada pelo primeiro-ministro, Li Keqiang, depois de uma análise nacional sobre os desafios enfrentados pelas empresas privadas.  A China vai adotar medidas para melhorar o investimento privado, incluindo como lidar com questões como competição injusta, falta de acesso ao mercado e dificuldade em obter financiamento, segundo o gabinete.  O investimento de empresas privadas desacelerou para uma mínima recorde no período de janeiro a maio, com o crescimento caindo de 5,2% para 3,9% entre janeiro e abril e de ritmo de dois dígitos no ano passado. O investimento privado responde por cerca de 60% do investimento total na China.\n",
            "\n",
            "\n",
            "O homem que vai ao trabalho nadando 2 km em rio de metrópole alemã - O empresário Benjamin David ficava estressado com o trajeto ao trabalho pelas movimentadas ruas de Munique, na Alemanha.  Um belo dia, resolveu tentar uma rota alternativa. Colocou o laptop, o terno e sapatos em uma bolsa à prova d'água e foi de sua casa ao trabalho a nado, no rio que corta a cidade, o Isar.  \"O trânsito na rua é tão alucinante que não é nada divertido. Quando nado, vou mais rápido e fico mais relaxado\", afirma.  Embora seja um rio urbano, a qualidade da água é adequada para o banho –ela foi melhorada em anos recentes graças a investimentos em novas estações de tratamento de esgoto ao longo do Isar.  No verão, é comum ver banhistas tomando sol nas margens e entrando no rio.  Todos os dias, David checa as condições da água –como nível, velocidade e temperatura– e decide se vestirá a roupa curta ou longa de neoprene. Além disso, coloca sandálias para se proteger de cacos de vidro na margem do rio.  No verão, faz o percurso e ida e volta pelo rio, quando a temperatura da água varia entre 14ºC e 22ºC. No inverno, consegue fazer o percurso apenas ocasionalmente.  Ele chama a atenção de quem o avista da margem, mas diz que já vem conseguindo novos adeptos.  \"De vez em quando as pessoas me olham e riem ou me perguntam o que estou fazendo. Às vezes, alguns colegas nadam junto comigo para o trabalho. No fim das contas, isto está virando moda por aqui\", conta.\n",
            "\n",
            "\n",
            "Hamilton conquista a décima pole da temporada no GP Bélgica de F-1 - A temporada de F-1 foi retomada neste sábado (22) com o treino de classificação para o GP da Bélgica. A primeira fila repetiu as posições da última etapa, com Lewis Hamilton e Nico Rosberg largando na frente. A corrida será realizada a partir das 9h (Brasília) do domingo.  Líder do Mundial, Hamilton chegou a décima pole position em 11 etapas. Durante o final de semana no circuito de Spa-Francorchamps, o inglês só havia superado o companheiro de equipe no último treino livre realizado pela manhã. Na classificação, Hamilton marcou 1m47s197 para garantir a primeira posição.  Valtteri Bottas confirmou o bom rendimento da Williams na temporada e marcou o terceiro tempo. Romain Grosjean ficou em quarto, mas foi punido com cinco posições por ter trocado o câmbio do carro e largará em nono.  Já Felipe Massa, companheiro de Bottas, conseguiu o sétimo lugar com a marca de 1m48s685. O brasileiro larga em sexto, beneficiado pela punição de Grosjean.  Para a Ferrari o dia não foi bom. No final de semana em que completa 900 corridas, a equipe italiana conseguiu colocar apenas um piloto entre os dez primeiros. Sebastian Vettel, vencedor da última etapa na Húngria, ficou com o nono lugar na pista e ganhou o oitavo posto também graças a punição de Grosjean. Kimi Raikkonen sai em 14º.  Felipe Nasr, por sua vez, foi eliminado na primeira parte do treino e, com a punição de Max Verstappen, largará em 15º.  CLASSIFICAÇÃO - GP DA BÉLGICA 1. Lewis Hamilton (GBR/Mercedes) - 1m47s197 2. Nico Rosberg (ALE/Mercedes) - 1m47s655 3. Valtteri Bottas (FIN/Williams) - 1m48s537 4. Sergio Perez (MEX/Force India) - 1m48s599 5. Daniel Ricciardo (AUS/Red Bull) - 1m48s639 6. Felipe Massa (BRA/Williams) - 1m48s685 7. Pastor Maldonado (VEN/Lotus) - 1m48s754 8. Sebastian Vettel (ALE/Ferrari) - 1m48s825 9. Romain Grosjean (FRA/Lotus) - 1m48s561* 10. Carlos Sainz (ESP/Toro Rosso) - 1m49s771 11. Nico Hulkenberg (ALE/Force India) - 1m49s121 12. Daniil Kvyat (RUS/Red Bull) - 1m49s228 13. Marcus Ericsson (SUE/Sauber) - 1m49s586 14. Kimi Raikkonen (FIN/Ferrari) - sem tempo no Q2 15. Felipe Nasr (BRA/Sauber) - 1m49s952 16. Will Stevens (ING/Manor Marussia) - 1min52s948 17. Roberto Merhi (ESP/Manor Marussia) - 1min53s099 18. Max Verstappen (HOL/Toro Rosso) - sem tempo** 19. Jenson Button (ING/McLaren) - 1min50s978** 20. Fernando Alonso (ESP/McLaren) - 1min51s420**  *Punido por troca de caixa de câmbio ** Punidos por troca de motor\n",
            "\n",
            "\n",
            "Doria ultrapassa rivais nos extremos da cidade; Haddad sobe no centro - DE SÃO PAULO  Com 44% das intenções de votos válidos, o candidato do PSDB, João Doria, chega à véspera da eleição à frente de seus adversários nas três macrorregiões da cidade de São Paulo: central, intermediária e extremos.  Pela primeira vez, Doria lidera sozinho na zona periférica paulistana —que, em pleitos anteriores, votava majoritariamente em candidatos identificados com a esquerda.  O candidato tucano atingiu 34% das intenções de votos válidos nos extremos da cidade, dez pontos percentuais acima do que tinha no começo da semana.  Na pesquisa anterior, ele dividia a liderança nessa região com os candidatos Celso Russomanno (PRB), que tinha 28%, e Marta Suplicy (PMDB), que tinha 27%.  Na macrorregião central, onde o PSDB já costuma ter melhor desempenho, Doria chegou a 55% das intenções de voto válido, avanço de 11 pontos em relação ao início desta semana.  ENTENDA AS MACRORREGIÕES  A divisão da cidade elaborada pelo Datafolha agrupa os distritos da capital em áreas homogêneas em relação a resultados eleitorais anteriores e perfil socioeconômico.  A macrorregião central, que abrange bairros como Pinheiros, Lapa, Vila Mariana, Tatuapé e Vila Prudente, tem eleitores mais escolarizados, com maior renda média e mais velhos. Na macrorregião dos extremos da cidade —distritos como Grajaú, Socorro, Marsilac, Brasilândia e Jardim Ângela—, o eleitorado é mais jovem e com renda mais baixa.  Entre esses dois aglomerados está a macrorregião intermediária, que reúne distritos como Aricanduva, Penha, Sacomã, Vila Sonia e Campo Limpo. Ela reúne eleitores com menor índice de preferência e fidelidade partidária, entre outras características.  DISPUTA PELO 2º LUGAR  Russomanno, Marta e o atual prefeito, Fernando Haddad (PT), que disputam a ida ao segundo turno, têm desempenho diverso nas macrorregiões.  As intenções de voto no candidato petista são maiores no centro (20%), caem para 16% na zona intermediária e a 13% nos extremos.  O candidato do PRB, por sua vez, tem preferência maior na periferia (22%), fica com 17% na zona intermediária e cai a 10% no centro.  O perfil de intenção de votos na candidata do PMDB é semelhante ao de Russomanno: 22% nos extremos, 13% na região intermediária e 6% na zona central da cidade.  A subida do atual prefeito se deu nas macrorregiões central (em que ganhou 7 pontos percentuais) e intermediária (com 5 pontos). Nas duas áreas da cidade, Russomanno caiu 9 e 11 pontos percentuais, respectivamente.  Nos extremos da cidade, Haddad ficou estável, Russomanno caiu 6 pontos e Marta, 5 pontos percentuais.  RESULTADO IMPREVISÍVEL  Além da forte volatilidade nas intenções de votos válidos nas últimas semanas, outros fatores tornam imprevisível a disputa pelo segundo lugar no primeiro turno.  Nos extremos e na zona intermediária da cidade, quase 40% dos eleitores ainda não sabem o número de seu candidato.  Mesmo na região central, de maior grau de escolaridade, quase 30% não informam o número correto.  A parcela de eleitores que ainda não se consideram totalmente convictos do voto também é alta: são 30% nos extremos, 27% na macrorregião intermediária e 20% na central.  Dentre os que ainda podem mudar de voto, a fatia dos que dizem ser grande essa possibilidade supera 20% nas três áreas.  REJEIÇÃO  Embora tenha recuperado terreno na região central, Fernando Haddad tem também ali seu maior índice de rejeição: 47% dos eleitores afirmam não votar nele de forma alguma (são 45% na intermediária e 42% nos extremos).  Russomanno tem a mesma taxa de rejeição no centro (47%), mas a resistência a seu nome é menor nas outras duas áreas: 35% e 30%.  Marta Suplicy é rejeitada por 42% dos eleitores da zona central, 39% na intermediária e 29% na periferia.  A rejeição a João Doria é de 19% no centro e nos extremos e de 17% na macrorregião intermediária.  Luiza Erundina, do PSOL, recebe 5% das intenções de voto no centro e nos extremos e 6% na área intermediária, e é rejeitada por 30%, 28% e 26% dos eleitores, do centro para as franjas da cidade.\n",
            "\n",
            "\n",
            "Sem sinal oficial, Record ainda tenta transmitir final histórica do polo - A final do polo aquático masculino que pode dar ao Brasil uma medalha de ouro que o país não conquista há 52 anos no Pan não seria transmitida para qualquer lugar do mundo.  A Record, detentora dos direitos de transmissão do Pan, porém, se movimenta para tentar levar aos brasileiros as imagens da decisão contra os Estados Unidos, nesta quarta-feira (15), às 21h (de Brasília).  A arena de disputa do polo é uma das quais a emissora canadense CBC, que gera as imagens para todos os detentores de direito, não ofereceu sinal.  Assim, junto à Odepa (Organização Desportiva Pan-Americana), a Record e outras emissoras das Américas tentam viabilizar a transmissão ao vivo destes esportes com sua própria estrutura.  É o caso do polo aquático nesta quarta. Segundo a Folha apurou, a emissora paulista está prestes a conseguir viabilizar a transmissão na Record News. Devido à grade de programação engessada no horário nobre, a Record provavelmente transmita apenas entradas ao vivo da arena do polo.  Este grupo de emissoras que comprou os direitos destes Jogos já conseguiu transmitir imagens ao vivo de outros nove esportes neste Pan que não tinham sinal direto da CBC, como hóquei sobre grama, beisebol, tiro com arco, levantamento de peso e rúgbi.  Desde os Jogos Olímpicos de Pequim-2008, há sinal de todas as arenas e todos os esportes para os detentores dos direitos. No Pan, porém, é diferente, devido ao orçamento bem mais baixo dos organizadores.  Aliás, é o Comitê Organizador quem define quais esportes vai ou não transmitir, de acordo com o investimento que foi feito naqueles Jogos.  No caso de Toronto, o comitê, junto à CBC, decidiram os esportes que ficariam fora. Houve negociações com outras TVs desde 2013, e alguns esportes foram incluídos no programa.  A exclusividade da Record na transmissão dos Jogos Pan-Americanos para TV aberta no país se manteve de 2011 para 2015. Mas o investimento da emissora paulista foi reduzido para esta edição em Toronto em relação à Guadalajara.  Se há quatro anos a equipe da Record tinha 245 profissionais na cidade mexicana, desta vez são 80 na sede canadense.  Para ter os direitos exclusivo de Guadalajara-2011, a Record pagou à época aproximadamente R$ 12 milhões. Aquele foi o primeiro grande teste da estratégia da emissora de abocanhar eventos top do esporte mundial.  Na negociação, tiraram da Globo também os direitos de transmissão do Pan de 2015 (por cerca de R$ 20 milhões) e das Olimpíadas (R$ 139 milhões pelos Jogos de verão de 2012 e de inverno de 2010). A Record também tem os direitos do Pan de Lima-2019.\n",
            "\n",
            "\n",
            "Trabalhadores da Petrobras terão novo representante no conselho - Os trabalhadores da Petrobras terão um novo representante no conselho de administração da empresa.  O coordenador do Sindicato dos Petroleiros na Bahia, Deyvid Bacelar, venceu o segundo turno da eleição para o cargo e será o terceiro trabalhador a integrar o conselho desde 2012, quando foi criada a vaga.  Ele obteve 6.864 dos 11.870 votos válidos, ou 57,83% do total. Sílvio Sinedino, atual representante dos funcionários no conselho, obteve 5.006 votos, ou 42,17% do total.  O conselho de administração é a instância máxima de decisão de uma empresa de capital aberto. Na Petrobras, o colegiado tem dez integrantes, dos quais sete nomeados pelo governo, dois por acionistas minoritários e um pelos trabalhadores.  Bacelar, 34, deverá assumir em abril, quando encerra-se o mandato de Sinedino. O antecessor, integrante da diretoria da Associação dos Engenheiros da Petrobras (Aepet) foi o primeiro trabalhador a ter assento no conselho, para o qual havia sido eleito duas vezes desde 2012.  Ele trabalha na Petrobras há nove anos, como técnico de segurança do trabalho na refinaria Landulpho Alves (BA).  O novo conselheiro da Petrobras disse estar \"aliviado\" e \"preocupado\" com a escolha da nova diretoria.  \"Estou aliviado porque não foi um neoliberal escolhido um nome imposto pelo mercado. Mas também preocupado porque os trabalhadores não participaram da decisão\", disse Bacelar.  Bacelar defende que a Petrobras mantenha contratos com as empreiteiras denunciadas na Lava Jato \"para não prejudicar os trabalhadores\". \"Deve-se punir os dirigentes, e não as empresas. Insistir nessa decisão é prejudicar milhares de trabalhadores em todo o país. Espero que essa decisão seja reavaliada.\"\n",
            "\n",
            "\n",
            "Preço em queda causa demissão em mineradoras no Brasil - Dentro de um mês, um em cada três trabalhadores formais de Itagibá, cidade de 15 mil habitantes do sul da Bahia, estará desempregado.  Os cerca de 400 funcionários da mineradora australiana Mirabela, que explora níquel na região desde 2012, foram colocados em aviso prévio e serão demitidos até maio. Outros 600 já haviam sido desligados ao longo dos últimos dois anos.  A desativação da mina é resultado do cenário de queda de preços das commodities no mercado internacional, que está forçando mineradoras a encerrar suas atividades temporariamente e demitir trabalhadores.  O problema atinge níquel, vanádio, cobre, minério de ferro, entre outros, e consequentemente reduz o faturamento das mineradoras.  \"Estamos inseridos num ciclo de baixa nos preços dos minérios, o que força os produtores com custos mais elevados a sair do mercado\", afirma Felipe Deraldi, analista da Tendência Consultoria.  No Brasil, a alta do dólar se somou a fatores externos, como o aumento da oferta global de commodities e a redução da demanda da China, um dos principais consumidores de minérios.  ALTAS E BAIXAS  Os dados de comércio exterior mostram bem esse cenário: a despeito de incremento do volume exportado, o valor movimentado despencou.  No período entre janeiro e março, o setor de mineração registrou US$ 2,7 bilhões em exportações neste ano, ante US$ 4,5 bilhões no mesmo período de 2015 e US$ 7,6 bilhões no do ano anterior.  No caso específico do níquel, somente em 2015 houve queda de 40% nos preços no mercado internacional. Esse cenário fez com que a operação de parte das minas se tornasse inviável.  Além da Mirabela, na Bahia, a Votorantim Metais também fechou minas neste ano em Niquelândia (GO) e em São Miguel Paulista (SP), com 800 trabalhadores demitidos.  Com isso, o setor de extração mineral acumula saldos negativo de vagas criadas desde 2014, quando esse dado foi de -2.557, segundo o Caged (Cadastro Geral de Empregados e Desempregados). No ano passado, chegou a -14,1 mil. Bem diferente dos saldos positivos de anos anteriores –em 2011, foi de quase 20 mil empregos.  As empresas que não estão demitindo buscam alternativas para reduzir custos. Com uma mina em Jaguarari, sertão da Bahia, a Mineração Caraíba –uma das maiores produtoras de concentrado de cobre do Brasil– protocolou um pedido de recuperação judicial em fevereiro.  Além da queda no preço do cobre, a mina foi atingida por fortes chuvas em janeiro, com danos à estrutura de extração.  Sem recursos para normalizar as operações, a empresa reduziu a produção a um terço e até diminuiu o horário de expediente.  TERRA ARRASADA  Na cidade de Itagibá, o fechamento da mina de níquel da Mirabela começa criar um cenário de \"terra arrasada\".  A arrecadação com tributos da prefeitura já despencou de R$ 3,5 milhões para R$ 2 milhões anuais. Somente no ICMS, o total caiu de R$ 600 mil para R$ 400 mil.  \"Foi um baque\", diz o prefeito Marcos Barreto (PCdoB), que considera o novo contingente de desempregados como o principal problema a ser enfrentado. Cerca de 90% do quadro de funcionários é formado por trabalhadores da própria região.  Sem experiência prévia no setor de mineração, a maioria dos demitidos busca emprego em outras áreas ou migra para a informalidade.  \"A oferta de empregos na região é muito pequena. Quem foi demitido está se virando como pode\", diz Gilmar Oliveira, presidente do sindicato Metabase, que representa os trabalhadores da mineradora na região.\n",
            "\n",
            "\n",
            "Chile decreta alerta vermelho em Valparaíso devido a incêndio - Autoridades chilenas decretaram alerta vermelho nesta sexta-feira (13) devido a um enorme incêndio na região de Valparaíso que ainda não foi controlado.  Milhares de pessoas precisaram deixar suas casas na região.  Segundo o Escritório Nacional de Emergência (Onemi), o alerta vermelho foi decretado porque o incêndio ameaça casas, torres de alta tensão, estruturas críticas e uma estrada que une Valparaíso a Santiago.  A autoridade regional fez um chamado aos motoristas para evitar o trânsito pela Rota 68, já que ela se encontra cortada pelas chamas devido ao forte vento na zona.  \"É preciso usar caminhos alternativos\", disse o intendente Ricardo Bravo em declarações a CNNChile.  O diretor do Onemi de Valparaíso, Mauricio Bustos, informou aos jornalistas que o incêndio, cuja imensa coluna de fumaça pode ser vista desde muito longe, é \"complexo\" pelo lugar no qual está ocorrendo.  Em abril do ano passado, aconteceu em Valparaíso um incêndio que em quatro dias consumiu mais de 10 mil hectares, deixou 15 mortos e cerca de 12 mil desabrigados, em uma zona que o governo está implementando um plano de US$ 510 milhões para reconstruir os setores afetados.\n",
            "\n",
            "\n",
            "Atentados terroristas atingem França, Tunísia e Kuait - França, Tunísia e Kuait foram alvo nesta sexta (26) de grandes ataques de grupos extremistas, que mataram dezenas de pessoas e alarmaram a comunidade internacional.  O Departamento de Estado dos EUA disse que não havia nenhuma evidência até agora de que os ataques terroristas tenham sido coordenados.  O porta-voz John Kirby afirmou que as ações ainda estão sendo investigadas, mas que até agora não havia \"nenhuma indicação em um nível tático de que foram coordenados\".  \"Obviamente, claramente, todos foram ataques terroristas\", disse Kirby em coletiva.  Apesar da declaração do porta-voz do Pentágono, os atentados ocorrem três dias após membros do Estado Islâmico terem feito um chamado a seus seguidores incentivando o \"martírio\" no mês sagrado do Ramadã. O grupo assumiu a autoria da ação no Kuait.  A extensão geográfica dos atentados —que ocorreram em três continentes— mostra a disseminação da ameaça de facções extremistas pelo planeta.  Atentados pelo mundo  TUNÍSIA  O pior atentado ocorreu em uma praia turística na Tunísia, em que dezenas de banhistas —muitos deles britânicos e alemães— foram mortos por um atirador disfarçado de turista.  Veja vídeo  Em março, outro ataque no país, no Museu do Bardo, atração turística perto do Parlamento tunisiano, matou 22 estrangeiros e deixou dezenas de feridos.  A Tunísia é o único país que conseguiu manter um governo democrático laico após a Primavera Árabe, em 2011. A nação sofre influência, porém, de grupos radicais e células terroristas.  Segundo fontes independentes consultadas pelo governo americano, ao menos 3.000 tunisianos deixaram o país nos últimos anos para se juntar às fileiras de facções extremistas como o EI.  FRANÇA  Na França, uma cabeça decapitada foi encontrada em uma usina de gás com bandeiras e inscrições em árabe. Também houve explosões que deixaram ao menos dois feridos. Um suspeito foi preso.    Em dezembro do ano passado, o Ministério de Interior da França estimou que ao menos 1.200 cidadãos ou residentes franceses estavam envolvidos com grupos extremistas na Síria, berço do EI.  KUAIT  No Kuait, um homem-bomba atacou uma mesquita xiita durante as preces de sexta-feira, dia sagrado para os muçulmanos.  O Kuait é considerado um importante aliado americano na região do golfo Pérsico. Segundo o Departamento de Estado, em relatório divulgado em junho, o país vem sendo um parceiro-chave no combate dos EUA ao EI.  Veja vídeo  O Conselho Europeu pronunciou-se condenando os três ataques. \"O extremismo e o terrorismo minam as bases das sociedades democráticas e são completamente inaceitáveis\", disse Anne Brasseur, presidente da assembleia parlamentar do conselho.  Também o Itamaraty soltou uma nota repudiando os atentados.\n",
            "\n",
            "\n",
            "\n",
            "\t\tJudoca Mariana Silva perde final e fica com a medalha de prata na Turquia\n",
            "\t\t - DE SÃO PAULO  A judoca brasileira Mariana Silva, 26, conquistou neste sábado (2) a medalha de prata no Grand Prix de Samsun, na Turquia.  Na final da categoria meio-médio (até 63kg), a brasileira foi derrotada pela francesa Margaux Pinot. A decisão foi na disputa do \"golden score\", quando vence quem marca a primeira pontuação.  Em um combate duro, a francesa acabou vencendo quando a brasileira foi punida pela arbitragem por falta de combatividade.  Para chegar à final, Mariana passou pela russa Pari Surakatova e pela croata Andreja Dakovic nas primeiras rodadas. Nas quarta de final, aplicou um ippon sobre a austríaca Kathrin Unterwurzacher, cabeça de chave número um da competição e atual quarta colocada no ranking mundial, com apenas 19 segundos de luta. Na semifinal, outra vitória sobre uma austríaca, Hilde Draxler, mas dessa vez na diferença de punições (2 a 1).  Essa foi a segunda medalha do Brasil em Samsun. Na sexta-feira (1º), Sarah Menezes conquistou a medalha de bronze na categoria ligeiro (até 48kg).  Apesar da medalha, o dia foi de derrotas para os judocas brasileiros. Victor Penalber (até 81kg), Maria Portela (até 70kg) e Alex Pombo (até 73kg) foram derrotados nas lutas iniciais da competição.\n",
            "\n",
            "\n",
            "Queiroz Galvão tirou do país diretor que pagava propina, suspeita PF - Representante do \"alto escalão\" da Queiroz Galvão e apontado como um dos responsáveis pelo pagamento de propina, o executivo Augusto Amorim Costa deixou o país há quase dois anos –apenas uma semana depois da prisão de diretores do grupo, na Operação Lava Jato.  Desde então, ele vive em Portugal, segundo informaram familiares à PF.  Para investigadores, há possibilidade de que a fuga tenha sido \"estimulada\" pela Queiroz Galvão, o que configuraria uma tentativa de obstruir a investigação.  \"É mais um indicativo de risco à investigação e à instrução, soando o ato como dissipação de provas\", escreveu o juiz Sergio Moro, na decisão que mandou prender três executivos ligados à empresa, nesta terça (2).  Costa, que é apontado como ex-diretor financeiro da Queiroz Galvão Óleo e Gás, deixou o país em 21 de novembro de 2014 –uma semana depois da 7ª fase da Lava Jato, que prendeu executivos das principais empreiteiras do país.  Três dias antes, os diretores Ildefonso Colares Filho e Othon Zanoide de Moraes Filho, presos novamente nesta terça, haviam sido libertados.  Ainda em outubro, o executivo já havia manifestado preocupação com as investigações da Lava Jato, segundo contou o ex-gerente da Petrobras Pedro Barusco Filho –que era amigo de Costa e comprou uma lancha e até um terreno em sociedade com o executivo, em Angra dos Reis (RJ).  Em sua delação, Barusco contou que Costa ligou para ele, querendo saber se ele faria colaboração premiada. O executivo era um dos que frequentavam as reuniões do \"clube\" de empreiteiras da Petrobras, segundo a investigação.  A casa de Costa em Angra dos Reis foi posteriormente alugada, de acordo com Barusco.  A PF não sabe o exato paradeiro de Costa, apontado por diversos delatores como o responsável pelo pagamento de propinas pela Queiroz Galvão. O executivo teria parentes em Portugal, na cidade de Arcos.  \"Até o presente momento, não há notícias de que [Costa] tenha retornado ao Brasil, nem prestado quaisquer esclarecimentos quanto ao seu envolvimento com os fatos\", escreveu a delegada Renata da Silva Rodrigues, em representação à Justiça.  Augusto Amorim Costa também foi alvo de uma fase anterior da Lava Jato, em fevereiro de 2015. Foi feita busca e apreensão em sua residência, no Rio de Janeiro, onde vive sua mulher, dona de uma loja de roupas e artigos de decoração. Na época, ele já estava fora do país.  OBSTRUÇÃO  Para Moro, as circunstâncias sugerem uma tentativa de \"dissipação de provas\" e \"obstrução da Justiça\" pela Queiroz Galvão –principal alvo da nova fase da Lava Jato, deflagrada nesta terça (2).  O juiz cita como exemplo, além da saída de Augusto Amorim Costa do país, o uso de contas no exterior para o suposto pagamento de propina, os contratos de fachada e a tentativa de enfraquecer a CPI da Petrobras, em 2009, com o pagamento de R$ 10 milhões a parlamentares.  O mesmo vale para os R$ 10 milhões que teriam sido pagos pela Queiroz Galvão ao então senador Sérgio Guerra (PSDB-PE), em 2009, para enfraquecer a CPI da Petrobras. Esses valores ainda precisam ser rastreados.  A investigação aponta que o dinheiro para abastecer o parlamentar tucano saiu das propinas devidas à diretoria de Abastecimento da Petrobras, controlada por Paulo Roberto Costa.  Moro disse em despacho que os valores pagos ao senador tucano Sérgio Guerra, morto em 2014, \"teriam sido abatidos do montante da propina devida\" à Diretoria de Abastecimento da estatal.  \"Tal comportamento, embora pretérito, revela, até mesmo pela ousadia de suborno de parlamentares federais e membros de uma CPI, risco à investigação e à instrução do processo, não sendo de se excluir a possibilidade de que tentativas equivalentes sejam adotadas\", escreveu Moro.  O juiz destaca o fato de que a Queiroz Galvão \"é uma das poucas\" que não negocia acordo de leniência e de que pelo menos um executivo detido nesta terça continua na empreiteira –com o risco, portanto, de que os supostos crimes permaneçam e se estendam a outros contratos com o poder público.\n",
            "\n",
            "\n",
            "\n",
            "\t\tCom receio de nova vaia, Temer resiste a participar de encerramento da Olimpíada\n",
            "\t\t - GUSTAVO URIBE DE BRASÍLIA  Com receio de enfrentar novas vaias, o presidente interino, Michel Temer, tem manifestado resistência em participar da cerimônia de encerramento da Olimpíada, marcada para 21 de agosto no Estádio do Maracanã.  A preocupação é que, às vésperas da fase final do processo de impeachment no Senado Federal, uma manifestação pública contrária ao peemedebista cause um desgaste desnecessário à imagem do presidente interino.  No entorno do peemedebista, há tanto auxiliares que defendem a sua participação no evento mundial como assessores que pregam que ele se dedique à votação no Senado Federal.  A assessoria de imprensa do presidente interino disse que ainda não há confirmação oficial sobre a viagem dele ao Rio de Janeiro, mas nega que ele esteja preocupado com vaias.  Segundo ela, o peemedebista cumprirá com as obrigações de chefe de governo e estará presente onde quer que seja necessário.    Os que defendem a viagem ao Rio de Janeiro dizem que sua participação é essencial para iniciar relações diplomáticas do novo governo com o Japão, uma vez que é esperada a participação do primeiro-ministro Shinzo Abe, apesar dele ainda não ter confirmado.  Um encontro bilateral entre Temer e Abe está sendo articulado com o objetivo de viabilizar uma visita do presidente interino ao país oriental no final deste ano.  Na abertura da competição mundial, na última sexta-feira (5), o peemedebista tentou, mas não escapou das vaias do público.  A organização do evento quis poupar o presidente interino de apupos. Seu nome não foi anunciado em nenhum momento da cerimônia, mesmo quando previsto no roteiro oficial.  Ele, contudo, acabou vaiado no final do evento, quando declarou os jogos abertos.\n",
            "\n",
            "\n",
            "Cícero marca três gols, São Paulo vence e avança na Copa do Brasil - O setor ofensivo do São Paulo, mais uma vez, redimiu a atuação vulnerável da zaga. Nesta quarta-feira (1º), a equipe comandada pelo técnico Rogério Ceni venceu o PSTC, do Paraná, por 4 a 2, fora de casa, e avançou à terceira fase da Copa do Brasil.  O próximo adversário será o ABC, que eliminou o Audax, nos pênaltis (4 a 1), depois de um empate em 1 a 1 no tempo normal, em Natal.  O triunfo são-paulino veio graças ao bom desempenho do meia Cícero. Com três gols, o jogador foi o destaque do confronto e evitou que sua equipe se complicasse em um duelo relativamente fácil -o PSTC tem apenas dois pontos de 15 disputados no Campeonato Paranaense e luta contra o rebaixamento.  O placar folgado não traduziu a dificuldade que o São Paulo encontrou. Após fazer 1 a 0, aos 13 min, com Cícero, o time paranaense empatou logo em seguida, com Lucão.  Aos 35 min, o meia então colocou o time paulista outra vez na frente, e Cueva ampliou, aos 42 min. Mas, antes mesmo da primeira etapa terminar, o PSTC diminui, com Carlos Henrique.  Com a pequena diferença de gols, os comandados de Ceni voltaram para o segundo tempo pressionando o rival. O quarto gol só saiu aos 26 min, de novo com Cícero  \"Não enxergo erros na defesa. O volante fez três gols. Vocês vão ficar surpresos que fez três gols, nenhum de bola parada. Tomamos gols quando estávamos mais bem posicionados\", afirmou Ceni quando questionado sobre as falhas defensivas.  Embora proteja os jogadores, o treinador tem que tomar um cuidado especial com o setor. Nos oito jogos da temporada, o clube só não sofreu dois ou mais gols em dois confrontos -Santos e Moto Club, ambos fora de casa. Ao todo já foram 15 gols sofridos, uma média de 1,8 por jogo.  O alento para o torcedor é que os gols marcados superam a instabilidade da defesa, o que por enquanto dá tranquilidade para o técnico à frente da equipe.  \"Hoje, é o time que mais faz gols em média no Brasil. É uma filosofia de jogo. Temos que diminuir a oportunidade de gols do adversário\", acrescentou o treinador são-paulino em entrevista coletiva após a classificação.  O São Paulo já marcou 22 gols nos oito jogos, uma média de 2,75 por jogo.  SOUVENIR  Após marcar três gols, Cícero fez questão de levar a bola do jogo para casa. A atitude é habitual na Europa quando um jogador faz o chamado \"hat-trick\".  \"É um feito que nem todo mundo consegue. Em 2006, eu já tinha feito. Saio feliz com a ajuda dos meus companheiros. Um funcionário do PSTC quis a bola, mas é minha, fiz três gols. Vou mostrar para meu filho quando ele acordar amanhã\", disse o meia na saída do gramado.  Estes foram os primeiros gols de Cícero após seu retorno ao clube tricolor. Em sua primeira passagem, entre 2011 e 2012, foram 92 jogos e 16 gols anotados.  Com a boa atuação nesta quarta, o jogador deve ser titular no próximo domingo (5), quando o São Paulo enfrenta o Santo André, às 16h, no Morumbi, pela sétima rodada do Campeonato Paulista. A equipe lidera o Grupo B com 11 pontos ganhos.\n",
            "\n",
            "\n",
            "Em despedida, Obama brinca que vai cassar aposentadoria de comediante - \"Não acredito que você vai antes de mim. Vou expedir um mandato executivo. Jon Stewart não pode deixar o show. Está sendo questionado na Justiça.\"  Começou com essa brincadeira a despedida do presidente dos Estados Unidos, Barack Obama, do apresentador do programa \"The Daily Show\" na noite de terça (21).  Despedida ao menos na bancada da atração.  Stewart está a duas semanas de encerrar sua temporada de 16 anos à frente de um dos programas mais populares da televisão americana. Obama está a menos de 18 meses de deixar a Casa Branca.  \"Para mim, é uma questão de Estado\", devolveu o apresentador.  Foram sete encontros. Três em que Obama era presidente.  As aparições foram sempre estratégicas. Stewart tem uma audiência jovem que se informa basicamente por meio de seu programa e representa uma parcela importante do eleitorado.  As conversas versaram sobre temas constantes no noticiário. No encontro em 2012, por exemplo, eles falaram sobre o ataque terrorista na Líbia que deixou quatro americanos mortos.  Em 2008, fizeram piadas sobre a eleição que elegeria Obama. \"Com o tipo de questões que você está enfrentando agora, de alguma maneira, você pode não querer mais ser presidente? Como se o carro que você comprou não fosse tão novo assim?\", provocou Stewart.  Obama, claro, disse seríssimo que queria ser presidente. \"Agora é a hora de poder causar algum impacto\", respondeu.  Na última edição, Obama gozou da reação negativa enérgica ao acordo que seu governo e potências mundiais fizeram com o Irã: o fim gradual das sanções econômicas em troca da autorização para inspecionar locais suspeitos de fabricar arma nuclear.  Os críticos do acordo gostariam que Dick Cheney tivesse sido encarregado das negociações, ironizou Obama. \"Eles parecem acreditar que, assim, tudo estaria bem.\"  Cheney, ex-vice-presidente dos Estados Unidos na gestão George Bush, defendeu durante anos uma intervenção militar no Irã.  Obama, apesar da piada, respondeu às críticas ao admitir que o Irã é um adversário anti-EUA e anti-Israel. \"Não se sela a paz com amigos\", constatou.  O presidente ponderou que os Estados Unidos não precisarão abrir mão de nada em troca do acordo e disse que o seu sucessor terá mais liberdade para atuar na nova conjuntura.  \"O acordo foi ótimo\", disse Stewart. \"Voltaremos a falar nele quando os senadores o barrarem\", brinco em referência à ameaça de republicanos no Congresso.  Obama falou sobre como os jovens do país e do mundo, ao contrário do que se costuma dizer, são sim mobilizados para ajudar ao próximo e defendeu medidas de incentivo como reduzir a mensalidade de universidades.  Stewart questionou se esse era um conselho que Obama dará a seu sucessor, o magnata Donald Trump, arrancando risadas do presidente e da plateia.  Trump é o pré-candidato republicano à Presidência mais ruidoso da campanha até agora, fazendo acusações e comentários agressivos com frequência.  \"Tenho certeza de que os republicanos estão gostando do domínio do Trump na campanha\", respondeu Obama.  \"Qualquer coisa que os faça parecer menos doidos\", encerrou Stewart.  O comediante sul-africano Trevor Noah assumirá o \"Daily Show\" no dia 28 de setembro.\n",
            "\n",
            "\n",
            "Pré-sal terá investimento de US$ 1 bilhão por ano da francesa Total - Com um orçamento de US$ 1 bilhão por ano para investir em seus projetos brasileiros, a petroleira francesa Total planeja um passo maior no país e abriu negociações para adquirir participação em ativos de gás e energia da Petrobras.  Um acordo nesse sentido foi anunciado na semana passada e, em entrevista à Folha, o presidente da companhia, Patrick Pouyanné, disse que, apesar da crise no setor, não lhe faltarão recursos para apostar em bons projetos.  \"A estratégia de uma companhia de petróleo é procurar onde estão as reservas e onde estão os grandes mercados. E o Brasil oferece os dois\", afirmou, em entrevista à Folha, durante sua passagem pelo país. Pouyanné esteve na feira Rio Oil & Gas, onde se reuniu com Michel Temer e assinou o acordo com a Petrobras.  Como tem sido prática entre as petroleiras, reforçou o coro por flexibilização das regras do setor, principalmente sobre o conteúdo local.  \"Se falarmos a mesma língua [governo e petroleiras], poderemos encontrar maneiras de investir.\"  Grande produtora global de gás, a empresa tem interesse em sociedade com a Petrobras nos terminais de importação de gás natural liquefeito (GNL) e em térmicas, ativos que fazem parte do plano de desinvestimento da estatal.  Pouyanné não quis adiantar quais ativos, mas disse que as duas empresas trabalham para anunciar novidades nesse sentido até dezembro.  \"O Brasil pode consumir mais gás e vamos nos engajar nesse mercado.\"  A Total tem 20% do projeto de Libra, a maior área do pré-sal já contratada, e é sócia da Shell em Gato do Mato, também no pré-sal.  A companhia também investe na busca por reservas na Foz do Amazonas, bacia ainda pouco conhecida pelas petroleiras. Vai perfurar o primeiro poço na região em 2017.  Neste momento, porém, a maior parte do orçamento para o país está dedicada a Libra, que começa a produzir, em fase de testes, a partir do ano que vem.  NOVA PÁGINA  Entre 2020 e 2023, o consórcio planeja colocar uma plataforma de grande porte por ano no campo.  \"Libra pode representar uma nova página na indústria de petróleo do Brasil\", diz Pouyanné, argumentando que será a primeira grande área a iniciar produção desde o início da década, gerando oportunidades para fornecedores e trabalhadores.  Pouyanné diz que os sócios trabalham para que a exploração seja viável a menos de US$ 35 por barril. \"É um projeto muito competitivo.\"  O ano de 2017 também será definitivo para a área e Gato do Mato, que está parada à espera de definições regulatórias.  Parte do reservatório se estende para fora da concessão e será oferecida pelo governo no próximo leilão do pré-sal. O vencedor negociará com os atuais sócios para definir a divisão dos investimentos e dos lucros.  \"Já fizemos a descoberta, mas estamos parados [por causa da indefinição sobre os novos sócios]\", disse o executivo, adiantando que a Total avalia participar do leilão.  Nos três primeiros trimestres de 2016, a Total acumula lucro de US$ 5,9 bilhões no mundo. A empresa produz 2,4 milhões de barris de óleo equivalente por dia -a título de comparação, a produção da Petrobras é de 3,2 milhões.  A companhia tem uma dívida líquida de US$ 30,5 bilhões, o equivalente a 28% do endividamento da Petrobras.\n",
            "\n",
            "\n",
            "Governo diz que BNDES tem dinheiro 'ocioso', mas avalia risco jurídico - O BNDES (banco estatal de desenvolvimento) possui dinheiro suficiente para antecipar o pagamento de R$ 100 bilhões ao Tesouro Nacional nos próximos dois anos e ainda tocar seus projetos de financiamento, inclusive de futuras concessões, segundo o ministro Henrique Meirelles (Fazenda). Há dúvidas no governo, no entanto, sobre a viabilidade jurídica da medida.  Conforme antecipou a Folha, o governo quer adiantar a devolução, pelo BNDES, dos empréstimos feitos ao Tesouro. Serão R$ 40 bilhões \"imediatamente\", R$ 30 bilhões daqui um ano e R$ 30 bilhões após mais 12 meses. Esse dinheiro está hoje parado, aplicado em títulos públicos.  \"O BNDES tem caixa suficiente para não só fazer a devolução desse excesso de recursos, mas também para cumprir todo o cronograma de empréstimos e participação no programa de concessões. Chegou-se à conclusão de que esses recursos estariam ociosos no BNDES por esse período\", afirmou Meirelles ao explicar as medidas econômicas anunciadas pelo presidente interino Michel Temer.  O ministro afirmou, no entanto, que o texto da medida que irá viabilizar o retorno do dinheiro só deve estar pronto na próxima semana, pois está dependendo de algumas avaliações jurídicas. O governo não explicou qual a questão jurídica. A Lei de Responsabilidade Fiscal, por exemplo, coloca restrições a esse tipo de operação.  Mais cedo, Temer disse que ainda é necessário verificar se não há nenhuma irregularidade para fazer esse pagamento antecipado.  O dinheiro do BNDES será usado integralmente para reduzir a dívida pública. O governo também estima uma economia de R$ 7 bilhões ao ano em pagamento de juros ao usar esse dinheiro para se financiar, ao invés de ter de recorrer ao mercado.  \"Foi levado em conta toda a programação de investimentos e de crédito do BNDES para esses próximos dois anos. Isso significa que está muito bem equacionado o programa do BNDES. Esses recursos estavam ociosos, causando um custo adicional ao Tesouro, que tem de se financiar no mercado\", afirmou Meirelles.\n",
            "\n",
            "\n",
            "Perda em repasses com pacote divulgado equivale a 25% do Sistema S - A perda de R$ 8 bilhões em repasses que eram feitos pelas empresas equivale a 25% das receitas das entidades do Sistema S, segundo dados da CGU (Controladoria Geral da União) fornecidos à Folha.  O órgão informou que em 2014 as entidades previam receita de R$ 31,09 bilhões. Esse valor inclui receitas das contribuições sociais feitas pelas empresas sobre a folha de pagamento, receita patrimonial (locação de imóveis), prestação de serviço (convênios com universidades, empresas etc.) e aplicações financeiras das entidades.  Por dentro do Sistema S - Grupo reu&#769;ne entidades criadas para aprendizagem, cultura e bem-estar do trabalhador  Os dados foram compilados pela CGU a partir dos balanços financeiros fornecidos pelas entidades ao TCU (Tribunal de Contas da União), na prestação anual de contas.  Em um dos relatórios, o TCU menciona que em 2014 o sistema S mantinha, ao todo, R$ 17,594 bilhões em disponibilidades financeiras.  Por dentro do Sistema S - Recursos arrecadados, em R$ bi  ENTENDA AS PERDAS  Segundo a Receita, que detalhou ontem o plano do governo para poupar recursos do Tesouro, o Sistema S vai perder cerca de 40% dos repasses das empresas, estimados em R$ 20 bilhões ao ano.  O pacote fiscal anunciado pela equipe econômica, que precisa ser aprovado pelo Congresso, inclui duas medidas provisórias que afetam a arrecadação do sistema.  A principal reduz em 30% as alíquotas pagas pelas empresas ao Sistema S —elas variam de setor para setor e, segundo a Receita, podem chegar ao equivalente a 5,8% da folha de pagamentos.  A mudança abrange R$ 6 bilhões, que deixarão de ser repassados para o sistema e passarão a ser pagos como contribuição à Previdência —o percentual pago passará dos atuais 20% para 20,9%.  Ou seja, na prática as entidades do sistema perderão recursos em favor da Previdência, sem que a carga tributária das empresas se eleve.  A proposta do governo é que a mudança vigore até o final de 2019.  Uma segunda medida provisória vai permitir que as empresas deduzam das suas contribuições ao Sistema S uma parcela de seus gastos em pesquisa e inovação.  Hoje, as empresas têm direito a abater esses gastos do Imposto de Renda, o que retira R$ 2 bilhões da arrecadação. Essa perda de receita seria transferida ao Sistema S.  \"Evidentemente que algum impacto haverá, mas o dinheiro está sendo realocado para uma atividade mais essencial\", afirmou o coordenador-geral de Tributação da Receita Federal, Fernando Mombelli, em referência ao deficit da Previdência.  O governo já tentou no passado mexer nesse modelo de cobrança, mas esbarrou no lobby das entidades.  CPMF  Sobre a CPMF, a ideia é que o tributo seja recriado exatamente nos moldes em que o tributo vigorou entre 1997 e 2007, incidindo sobre toda movimentação financeira, mas com alíquota de 0,20% (a anterior era de 0,38%).  A medida será acompanhada por redução do IOF, fixada por decreto, mas não há uma definição sobre as alíquotas. No início de 2008, para compensar parcialmente o fim da CPMF, o governo elevou alíquotas do IOF em 0,38 ponto para várias operações.  -  Sistema S  > Os recursos são obtidos a partir de um percentual recolhido sobre a folha de pagamento de todas as empresas que atuam no mercado formal. No caso da indústria, 2,5% sobre a folha de pagamento vão para Senai e Sesi  O que o governo quer fazer?  > Destinar 30% da arrecadação dessas entidades à Previdência  > Reduzir o valor que pode ser deduzido do Imposto de Renda por doações a essas entidades  R$ 8 bi é quanto o governo espera ter a mais em receitas com a adoção dessas medidas\n",
            "\n",
            "\n",
            "França diz que negociações de acordo entre UE e EUA estão 'empacadas' - As negociações entre a União Europeia e os Estados Unidos sobre um acordo de livre comércio \"empacaram\" e há poucas chances de um acordo neste ano, disse o presidente da França, Francois Hollande, nesta terça-feira (30).  Em um discurso a embaixadores, ele acrescentou que poderia não apoiar um acordo que seria concluído antes do fim do mandato do presidente dos EUA, Barack Obama, em janeiro do próximo ano.  \"As negociações estão empacadas, posições não foram respeitadas, é claramente um desequilíbrio\", disse ele.  \"A França prefere encarar o problema de frente e não criar a ilusão de fechar um acordo antes do fim do mandato do presidente dos Estados Unidos\", acrescentou.  Mais cedo nesta terça-feira, o ministro de Comércio da França, Matthias Fekl, disse que solicitaria o fim das negociações sobre o Acordo Transatlântico de Comércio e Investimento (TTIP, na sigla em inglês) em uma reunião de ministros europeus em setembro.  O secretário de Estado de Comércio Exterior francês informou que o governo vai solicitar em setembro à Comissão Europeia o fim das negociações. \"Não existe mais apoio político da França para as negociações, assim o país pede o fim das negociações\", afirmou Matthias Fekl à rádio \"RMC\".  Ele justificou a demanda por considerar que as negociações para criar uma TTIP estão desequilibradas a favor dos interesses dos Estados Unidos e não dos países-membros da União Europeia.  \"Os americanos não dão nada ou apenas migalhas (...) Entre aliados não se negocia assim\", lamentou o ministro. Ele afirmou que as negociações terão que começar novamente mais adiante.  \"Temos que parar de maneira clara e definitiva estas negociações para recomeçar com novas bases\", disse.  Fekl também disse que a França apresentará o pedido em setembro, durante a reunião de ministros do Comércio Exterior da UE em Bratislava (Eslováquia).  O secretário do Comércio não disse quando nem em quais condições poderiam começar as novas negociações. Mas o calendário aponta para depois da eleição de um novo presidente nos Estados Unidos, que só vai tomar posse em 2017.  Os dois principais candidatos à presidência americana, a democrata Hillary Clinton e o republicano Donald Trump, já criticaram duramente o acordo.  TRATADO  O acordo, negociado em sigilo entre Washington e a Comissão Europeia desde meados de 2013, tem o objetivo de eliminar as medidas regulamentares e comerciais para criar uma grande zona de livre comércio e estimular o crescimento econômico.  Nos últimos meses, as negociações foram afetadas pelas críticas de muitas ONGs, que temem que o tratado afete a legislação ambiental europeia em favor das grandes empresas.  Também são cada vez maiores as dúvidas dos próprios governos europeus. Na Alemanha, muitas vozes são contrárias ao acordo, inclusive dentro da coalizão de governo. Mas a chanceler Angela Merkel defende o projeto.  RESPOSTA  Horas depois das declarações dos representantes franceses, a comissária europeia do Comércio, Cecilia Malmström, respondeu e afirmou que as negociações \"não fracassaram\".  \"As negociações são difíceis, com certeza, sabíamos desde o início, mas não fracassaram\", disse à imprensa em Bruxelas.  \"Tínhamos o objetivo e continuamos (...) de concluir (as negociações) até o fim do mandato de Obama, em janeiro de 2017\".  \"E, se isto não for possível, é lógico fazer o maior progresso possível\", completou.  \"Sei que o debate tem sido muito duro nos dois países, tanto na França como na Alemanha (...) Não sei porque os comentários são feitos neste momento\", disse Malmström.  \"Mas isto não reforça minha posição como negociadora\", concluiu.\n",
            "\n",
            "\n",
            "Manifestante é baleado com armamento letal em ato em Brasília - Policiais militares do Distrito Federal utilizaram armas com munição letal contra manifestantes durante protesto contra o governo de Michel Temer (PMDB) e pela convocação de eleições diretas, nesta quarta-feira (24).  A Folha flagrou o uso de armas letais por policiais que não faziam parte do batalhão da tropa de choque, na Esplanada dos Ministérios, no meio da multidão.  A Secretaria de Segurança Público do Distrito Federal confirmou que um manifestante foi baleado e passava por cirurgia no Hospital de Base de Brasília. Segundo a pasta, ele não corre risco de morrer.  \"A Polícia Militar abrirá inquérito para investigar policiais militares que aparecem em imagens com arma de fogo nas mãos. Esse procedimento não é adotado em manifestações. Os incidentes e as responsabilidades serão apuradas\", afirmou a secretaria do governo Rodrigo Rollemberg (PSB).  Um vídeo divulgado pelo jornal \"O Globo\" mostra ao menos dois policiais atirando com armas de fogo na direção dos manifestantes, próximo ao Ministério da Agricultura, que foi incendiado.  A reportagem da Folha estava próxima ao local e ouviu manifestantes gritando que PMs estavam atirando e que havia \"bala perdida\". O caso aconteceu por volta das 16h, quando a confusão, que lembrava uma praça de guerra, já se estendia por cerca de três horas.  Segundo balanço parcial da SSP, houve 49 atendimentos de urgência durante a manifestação, entre feridos e pessoas que passaram mal por causa do uso de gás lacrimogêneo e spray de pimenta.  Dentre estes, oito foram de policiais feridos, segundo informou a secretaria –um dos PMs teve a perna quebrada.  Jornalistas também foram atingidos na confusão. Repórter da Folha foi atingida por uma bomba de gás lacrimogêneo na perna e um fotógrafo foi atingido por bala de borracha na perna e estilhaço de bomba no rosto, que estava protegido pela máscara de gás. Nenhum se feriu com gravidade.  O sindicato dos jornalistas do DF divulgou nota criticando a ação da PM, em que cita ao menos quatro jornalistas agredidos por policiais ou feridos no ato.  Bombas foram disparadas inclusive próximo ao local onde bombeiros socorriam feridos, próximo ao Ministério da Defesa.  No Hospital de Base de Brasília, ao menos quatro pessoas deram entrada com ferimentos graves. Dois homens foram feridos no olho por tiros de balas de borracha.  Um dos feridos no olho, de 35 anos, é do MST, e o outro, de 18, é estudante de São João Del Rey (MG).  Um outro rapaz, estudante de Santa Catarina sem idade confirmada, teve a mão parcialmente decepada por causa de um rojão. Ainda não há informação sobre a identidade do homem baleado.  Todos os feridos vindos da manifestação que deram entrada no hospital foram obrigados a registrar ocorrência policial, fato incomum no serviço público.\n",
            "\n",
            "\n",
            "Folhainvest responde: Apliquei R$ 100 mil com juros prefixados. Resgato? - Pergunta enviada pelo leitor M.A.M., de Conquista (MG).  RESPOSTA DE WILLIAM EID JUNIOR, PROFESSOR DA FGV-SP - Em junho, muitos acreditavam que a alta da taxa de juros no Brasil já havia chegado ao limite. Mas, no mercado financeiro, surpresas são bastante frequentes. Assim, ao fazermos aplicações, mesmo na renda fixa, é importante diversificar. Nesse caso, você deveria ter colocado uma parte em prefixado e outra em pós-fixado.  Vamos fazer contas: se você deixar o dinheiro onde está, vai receber, em junho do ano que vem, um total de R$ 111.137,50, já descontado o Imposto de Renda.  Se sacar nesta segunda (12), o rendimento bruto será de 4,31%. Retire o IR de 22,5% e você terá um rendimento líquido de 3,34%, resultando em R$ 103.341. Isso ignorando descontos que o banco pode aplicar.  Aí então você reaplicaria o dinheiro. Supondo que os juros médios até junho de 2016 sejam de 14,5%, o que indica que a Selic chegará a 15,5% ou 16% até lá, vai receber R$ 111.151,00. Pouquíssima diferença para muito trabalho.  Se conseguir um prefixado de 17%, com o risco de alta da inflação e, portanto, de perda, teria rendimento de R$ 1.300 sobre o valor original, um bom ganho. Isso se o banco pagar 100% do valor presente do seu investimento, o que é difícil. Em suma, é preciso fazer contas e descobrir, principalmente o valor do resgate da sua aplicação hoje.\n",
            "\n",
            "\n",
            "Uruguai 'rebaixa' cúpula de passagem da presidência do Mercosul a Caracas - A cúpula de chefes de Estado na qual a presidência pró-tempore (rotativa) do Mercosul seria transmitida do Uruguai à Venezuela, em 12 de julho, foi transformada em reunião de chanceleres, segundo anunciou nesta segunda (27) o governo uruguaio.  A decisão de \"rebaixar\" o encontro surge em meio à relutância de Paraguai, Brasil e Argentina em entregar a presidência do bloco ao presidente venezuelano, Nicolás Maduro, acusado de violar direitos humanos e políticos e de levar a Venezuela ao abismo econômico.  O chanceler do Uruguai, Rodolfo Nin Novoa, afirmou que estão mantidos de entregar a presidência do Mercosul à Venezuela e atribuiu o cancelamento da reunião de presidentes a problemas internos nos países-membros.  \"As condições políticas particulares que vivem alguns sócios, como nos casos de Brasil e Venezuela, justificam que a Cúpula não seja realizada\", afirmou Novoa. Ele disse que \"não necessariamente a passagem da presidência pro tempore está associada a uma cúpula\" de presidentes.  \"O Uruguai está firmemente apegado às normas internacionais de direito e [busca] cumprir os compromissos estabelecidos. As normas 'mercosulinas' estabelecem que a rotatividade será semestral; o Uruguai tem a presidência e quando terminar em julho vai passá-la. Antes e depois veremos as condições sobre esse aspecto\", afirmou o ministro.  A ascensão de governos de direita na Argentina e no Brasil privou a Venezuela de dois aliados de peso e inverteu a relação de forças dentro do Mercosul, bloco criado em 1991. O Paraguai mantem posição crítica contra a Venezuela desde 2013.  O acirramento das tensões sociais e políticas na Venezuela gera crescente preocupação regional. A OEA (Organização dos Estados Americanos) discute possível aplicação de sanções contra a Venezuela pelos ataques do chavismo contra a oposição. A iniciativa, porém, até agora não obteve respaldo suficiente.  A Unasul (União de Nações Sul-Americanas) tenta mediar um diálogo entre Maduro e a oposição, até agora em vão.  O governo norte-americano também manteve recentes encontros com representantes dos dois lados.\n",
            "\n",
            "\n",
            "Bolsa sobe pouco à espera de decisão sobre juros americanos; dólar também avança - O mercado financeiro ficou na defensiva neste começo de semana de decisão de taxa de juros nos Estados Unidos. O Fed (banco central dos Estados Unidos) decide nesta quarta se sobe ou não os juros, hoje entre 0,25% e 0,5%.  A Bolsa brasileira fechou a segunda-feira em alta mais modesta que a registrada no começo do pregão. A valorização do Ibovespa, principal índice acionário do país, foi de 0,47%, a 57.350,37 pontos. A desaceleração foi acompanhada do sinal negativo do mercado americano. Os índices Dow Jones e Nasdaq fecharam no vermelho (-0,02% e -0,18%), enquanto o S&P 500 terminou estável, a 2.139,12 pontos. As Bolsas europeias terminaram o dia no positivo.  No mercado doméstico, o índice acionário chegou a subir mais de 1% no começo do pregão, embalado pela valorização dos papéis da Petrobras. Ao final do dia, no entanto, as ações perderam força. A preferencial (mais negociada) recuou 0,68%, a R$ 13,07. Já as ações ON avançaram 0,20%, a R$ 14,93.  A estatal foi influenciada pela oscilação dos preços do petróleo. A commodity voltou a se valorizar nesta segunda, mas era negociada a US$ 45,94 ao final do dia, apenas 0,37% de ganho. Investidores também esperam a divulgação do plano de negócio da companhia, que está em discussão no conselho de administração da estatal nesta segunda. A empresa já chamou uma teleconferência com analistas e investidores para esta terça.  O Ibovespa conseguiu se sustentar no campo positivo puxado por ações ligadas a matérias-primas, como a Vale. As ações PNA da empresa avançaram 1,86%, a R$ 14,21, e os papéis ON ganharam 1,52%, a R$ 16,66.  CSN subiu 6,12%, a maior alta do Ibovespa, após reportagem do jornal \"O Globo\" dizer que a siderúrgica está negociando a venda de uma participação minoritária na unidade de minério de ferro para a chinesa CBSteel.  DÓLAR  O dólar comercial encerrou o dia em alta ante o real, depois de alternar entre perdas e ganhos durante o pregão. A moeda ficou cotada a R$ 3,2780, ganho de 0,21%. O dólar à vista, usado em operações do mercado financeiro e que fecha mais cedo, perdeu 0,68%, a R$ 3,2631.  O mercado de câmbio aguarda a decisão sobre a taxa de juros dos Estados Unidos. A expectativa do mercado é de manutenção no atual patamar, mas analistas devem buscar pistas no comunicado de quanto a taxa básica deverá subir novamente. Também elevam a cautela a possibilidade do banco central japonês alterar seu programa de política monetária.  Os contratos de juros futuros terminaram o dia perto da estabilidade. O DI para janeiro de 2017 recuou de 13,985% para 13,955%. O contrato para janeiro de 2018 terminou estável em 12,540%.  Com Reuters\n",
            "\n",
            "\n",
            "Empresários revelam como planejam faturar em cenário pessimista de 2016 - O cenário pessimista na economia não afetou os projetos de crescimento de pequenos e médios empresários, dispostos a investir até R$ 100 milhões na ampliação dos seus negócios no próximo ano.  A reportagem da Folha ouviu seis desses empreendedores para saber quais são as suas estratégias, que incluem contratar mais funcionários, abrir novas unidades, crescer no mercado internacional e até lançar novos modelos mais enxutos.  Já especialistas em negócios listam quais os cuidados ao se investir em tempos ainda turbulentos.\n",
            "\n",
            "\n",
            "Senadores assinam documento contra PEC que muda demarcação de terras - Em um duro recado ao comando da Câmara dos Deputados e à bancada ruralista, o presidente do Senado, Renan Calheiros (PMDB-AL), e outros líderes da sigla, como Jader Barbalho (PA), Romero Jucá (RR) e Eunício Oliveira (CE), além de expoentes do PSDB, como Aécio Neves (MG), José Serra (SP), Aloysio Nunes (SP) e Álvaro Dias (PR), assinaram um texto que chama de \"atentado\" a iniciativa da Câmara de tentar fazer aprovar uma PEC que muda o sistema de demarcação de terras indígenas no país.  A PEC 215 (Proposta de Emenda à Constituição) foi estimulada na gestão do atual presidente da Câmara, Eduardo Cunha (PMDB-RJ), que autorizou a retomada de uma comissão especial para analisar a matéria. A PEC estende ao Legislativo o papel, atualmente restrito ao Executivo por meio do Ministério da Justiça e da Funai (Fundação Nacional do Índio), de localizar e demarcar terras indígenas, assim como unidades de conservação ambiental e territórios de quilombolas.  O texto dos senadores que ataca a PEC, intitulado \"Senadores apoiam sociedade civil contra PEC 215\", foi elaborado pelo senador João Capiberibe (PSB-AP) e havia recebido até a tarde desta quarta-feira (27) a subscrição de 48 senadores, do total de 81 parlamentares da Casa.  Também assinaram o documento diversos senadores do PT, como Lindbergh Farias (RJ), Gleisi Hoffmann (PR), Walter Pinheiro (BA), Humberto Costa (PE), Jorge Viana (AC) e José Pimentel (CE).  O texto afirma que os senadores \"unificaram o discurso e o posicionamento contra a PEC 215\". Diz que, se aprovada, a iniciativa da Câmara \"na prática vai significar a paralisação definitiva dos processos de regularização dessas áreas protegidas\".  \"A PEC 215 não foi precedida de consulta. A confirmação de direitos de minorias não pode ficar suscetível a maiorias temporárias. A demarcação é um ato técnico e declaratório. Não há sentido em introduzir o componente político nesse ato. É incabível trazer essa matéria para o âmbito do Congresso, um equívoco político e jurídico, um atentado aos direitos dos povos indígenas\", diz o texto.  Capiberibe, que pessoalmente abordou alguns colegas para a coleta das assinaturas, disse que a ideia é \"desestimular mesmo a iniciativa da Câmara, é uma posição política em relação a uma questão que não pode retroceder\".  Segundo o senador, Renan Calheiros lhe disse que, quando ministro da Justiça do governo Fernando Collor (1990-1992), trabalhou pela segurança dos índios ianomâmis, cujo território havia sido invadido por milhares de garimpeiros, daí sua opção \"pela defesa dos direitos indígenas\".  \"A PEC tramita há muitos anos, acho que desde 2002, e o Eduardo Cunha agora ressuscitou [a proposta] e gerou instabilidade entre povos indígenas e quilombolas. Mas o Parlamento não é para inventar leis, legisla em função de demandas originárias da sociedade. Não cabe ao Parlamento criar leis sem pé nem cabeça\", disse Capiberibe.  Segundo o senador, a transferência do poder de demarcação do Executivo para o Legislativo na prática provocaria a paralisação dos processos de demarcação, que já estão em compasso de espera desde que a ideia de aprovar a PEC começou a ser ventilada na Câmara. \"Na mesa da presidente Dilma hoje estão 20 áreas indígenas só aguardando a decisão presidencial , que está sendo postergada\", disse o senador.  Quando a comissão especial foi reativada na Câmara para discutir o assunto, em fevereiro, Cunha afirmou que não cabia a ele recusar o pedido formulado pela bancada ruralista. \"Não tenho poder ou competência legal para acabar com a PEC 215 ou nenhuma outra PEC. Tenho de cumprir o Regimento [da Câmara]\", disse Cunha, na época. Ele também negou que a retomada da PEC houvesse sido negociada com os ruralistas quando de sua eleição à presidência da Casa, em fevereiro.  Os defensores da PEC 215 afirmam que a transferência do poder demarcatório para o Legislativo é necessária para equilibrar o poder da Funai, a quem acusam de não manter critérios rigorosos na identificação das terras indígenas.\n",
            "\n",
            "\n",
            "TJ absolve ex-prefeita Marta Suplicy de acusação de improbidade - O Tribunal de Justiça do Estado de São Paulo absolveu nesta terça-feira (15) a senadora Marta Suplicy (sem partido-SP) da acusação de improbidade administrativa durante sua gestão à frente da Prefeitura de São Paulo (2001-2004).  De acordo com denúncia do Ministério Público, Marta teria contratado em 2002, sem licitação, a ONG Grupo de Trabalho e Pesquisa em Orientação Sexual (GTPOS) para desenvolver ações sobre planejamento familiar, métodos contraceptivos e sexualidade na periferia de São Paulo (em Cidade Ademar, na zona sul, e em Cidade Tiradentes, na zona leste).  A secretária de Educação à época, Maria Aparecida Perez, e a própria ONG –da qual Marta é sócia-fundadora– também eram rés na ação.  A ex-prefeita foi condenada em primeira instância em janeiro de 2014 e sua defesa recorreu.  Relator do recurso, o desembargador Carlos Violante esclareceu que a contratação atendeu aos requisitos legais para a dispensa de licitação, não havendo ilegalidade. Os desembargadores Vera Lucia Angrisani e Renato Delbianco também participaram da turma julgadora e acompanharam o voto do relator.  O TJ informou que o Ministério Público não recorrerá da decisão.\n",
            "\n",
            "\n",
            "STF impede que CPI do Futebol quebre sigilos de comitê da Copa de 2014 - O COL (Comitê Organizador Local da Copa do Mundo 2014) entrou com um mandado de segurança no STF (Supremo Tribunal Federal) para questionar a quebra de sigilo determinada pela CPI do Futebol, em andamento no Senado Federal, e foi atendido pela corte suprema.  A entidade questionava a aprovação de requerimentos e ofícios que determinaram a quebra de seu sigilo fiscal e financeiro no dia 1º deste mês.  O pedido de quebra de sigilo tinha sido feito pelo presidente da comissão, o senador Romário (PSB-RJ), no dia 1º de dezembro. O parlamentar foi econômico ao apresentar suas justificativas: \"Requeiro que essa Comissão Parlamentar de Inquérito solicite aos órgãos cabíveis as informações fiscais e bancárias, no período de 01 de janeiro de 2008 até 12 de março de 2015, do Comitê Organizador Brasileiro, em virtude de indícios de irregularidades cometidas por parte de seus dirigentes atuais e pretéritos\".  Na Justiça, o Comitê Organizador alegou que a quebra dos sigilos foi o primeiro ato formal da CPI em relação à entidade, que deveria ter feito uso, inicialmente, de medida menos gravosa. \"Em síntese, o primeiro ato praticado pela CPI em face do COL foi, sem qualquer investigação prévia a seu respeito, a aprovação da quebra dos sigilos fiscal e financeiro, e, mais grave, sem que fosse assegurada a vigência dos princípios republicanos da motivação, da publicidade e da transparência\", argumentou o comitê.  Em decisão liminar (provisória), o ministro Celso de Mello determinou: \"Defiro, em parte, o pedido de medida liminar, em ordem a suspender, cautelarmente, até final julgamento da presente ação de mandado de segurança, a eficácia das deliberações da CPI do Futebol, que ordenou a quebra do sigilo dos registros fiscais e bancários da empresa Copa do Mundo FIFA 2014 - Comitê Organizador Brasileiro Ltda. (...) e determinou a produção, por essa mesma impetrante, de \"todos os seus demonstrativos de resultados e distribuição de lucros no período de 01 de janeiro de 2008 até 12 de março de 2015\". (...)\"  De acordo com o COL, mesmo que a quebra de sigilo estivesse associada à investigação de algum dirigente ou ex-dirigente, a aprovação dos atos seria desproporcional porque não houve imputação de qualquer ato ilícito ao comitê organizador.  O Comitê Organizador alega ser uma entidade privada e que isso afastaria a competência da CPI para requisição de documentos e quebras de sigilo, pois isso superaria os limites constitucionais impostos para sua atuação. Aponta, ainda, que a CPI funciona há meses sem foco específico de apuração, o que viola seu caráter temporário e com destinação específica para investigar fato certo e determinado.  Segundo o COL, os atos da CPI do Futebol violam o artigo 58, parágrafo 3º (que trata do funcionamento de comissão parlamentar de inquérito) e o artigo 93, inciso IX (sobre publicidade de atos do Judiciário e fundamentação de decisões) da Constituição da República, além dos princípios do contraditório, da ampla defesa e do devido processo legal.  O processo está sob a relatoria do ministro Celso de Mello e deverá ter alguma decisão definitiva até o final deste ano.\n",
            "\n",
            "\n",
            "Joesley e Wesley são sócios da JBS, e não donos, diz presidente do BNDES - Paulo Rabello de Castro, presidente do BNDES, afirmou à Folha que os Batista romperam um \"pacto informal\" para a saída de Wesley Batista da presidência da JBS. \"Não cumpriram e, por isso, a empresa está acéfala agora\", disse. O banco é sócio da JBS com 21% de participação.  Ele conta que assim que assumiu o cargo em junho acertou com Tarek Farahat, presidente do conselho de administração, que os bancos públicos apoiariam a renegociação da dívida e a JBS contrataria uma consultoria para encontrar um novo CEO. Segundo ele, o setor público fez sua parte, mas a família, não.  Rabello de Castro também revelou que o BNDES vem conversando com a AGU (Advocacia Geral da União) e com a Justiça para explicar que o fim do acordo de colaboração premiada de Joesley Batista não deve afetar a companhia.  \"A punição exemplar aos CPFs não pode se confundir com os CNPJs. A posição conhecida dos Batista é 41%. Se agiam como donos antes, passaram a conhecer sua verdadeira condição de sócios\".  Leia a entrevista de Rabello de Castro à Folha.  *  A advogada Claudia Santos, representante do BNDES no conselho da JBS, defendeu nesta quarta-feira (13) que a empresa indique um presidente interino para substituir Wesley Batista. Por quê?  Por um motivo muito simples: a empresa neste momento funciona acéfala. Uma empresa de qualquer porte —não precisa ser imensa como a JBS— tem que ter linha sucessória. Até na padaria do seu Manoel tem que existir um plano de sucessão.  Nós temos na JBS executivos de nível internacional, que nas suas origens foram importantes CEOs. A solução que nossa conselheira apresentou é óbvia: um novo administrador interino é importante, já que estamos reestruturando o conselho de administração, como estava pactuado entre o presidente do BNDES e o presidente do conselho, embora de modo informal.  O que foi acordado entre o senhor e o presidente do conselho da JBS, Tarek Farahat?  Logo depois de manifestar minha solidariedade aos funcionários, minha primeira medida assim que assumi o BNDES foi chamar o presidente do conselho da JBS. Ninguém nunca soube disso, mas agora estou esclarecendo. Naquele momento, ainda não parecia que havia uma crise de governança na empresa. Mas a família Batista tinha instalado uma crise de confiança na República. Eu, que já sentei em inúmeros conselhos, preferi antecipar o problema.  Nós pactuamos o seguinte: de um lado, eles teriam um tempo, embora curto, para renegociar a dívida com os bancos. Mais ou menos um mês depois dos nossos primeiros encontros, a empresa fechou um acordo muito favorável para o seu equilíbrio com os bancos.  Eu trabalhei em completa sintonia com o Paulo Caffarelli, presidente do Banco do Brasil, que sentava como credor, e com o Gilberto Occhi, presidente da Caixa Econômica Federal. BNDES e Caixa são sócios da JBS, enquanto o BB é credor. Ou seja, o setor público agiu de maneira estritamente republicana num ambiente que poderia se supor uma \"vendeta\".  Assessores da JBS dizem que o BNDES vem sendo um instrumento de vingança do governo Temer contra os Batista, por causa das acusações feitas por Joesley Batista.  É exatamente o contrário. Veja bem: não é o governo que quer uma vendeta, é a República que quer se vender vindicada. Eu paguei um preço alto por fazer uma defesa da boa conduta negocial histórica do grupo. Segurei a barra dizendo que essa é uma empresa dos brasileiros, de todos nós, inclusive os Batista. Eles até quiseram levar a JBS para fora do país, mas a Maria Silvia não deixou [a ex-presidente do BNDES vetou uma reestruturação do grupo que mudaria a sede para o exterior].  E qual foi o compromisso assumido pelos Batista nesse pacto informal?  Na reunião do conselho de junho, os conselheiros do BNDES introduziram a questão da governança da JBS. É só pedir a ata. Nessa reunião, ficou decidido por conta do pacto firmado entre eu e o Tarek, que seria contratada uma empresa de recursos humanos para a busca de um novo CEO. E que poderia ser alguém da casa ou de fora. Estabelecemos um prazo de três meses para o trabalho da consultoria. Eu queria trinta dias, mas o entendimento foi que levaria até setembro.  E isso foi feito?  Zero. E é por isso que a empresa está acéfala hoje. Não tinha que ter uma reunião de emergência.  Foi por isso que o senhor pediu À assembleia de acionistas para que a empresa apure possíveis prejuízos provocados pelos administradores?  Não. Na mesma reunião de junho em que conversamos sobre a absoluta necessidade de aperfeiçoar a governança da JBS, tomamos a medida de requerer a assembleia geral extraordinária.  Quando nós apresentamos esse requerimento, não foi tornado público. Eu até me chateie um pouco porque isso não constou da ata. Mas eles pediram um adiamento, porque a lei da sociedades anônimas prevê um período curto para a marcação da data da assembleia.  Ninguém soube na época, porque não estamos administrando a JBS pelo jornal. Eles nos ligaram e argumentaram que a assembleia seria interpretada como uma saída do Wesley, o que o enfraqueceria perante os bancos e poderia até levar à recuperação judicial.  Eu ponderei, reclamei que o processo seletivo do CEO não tinha começado. Mas concordei com mais 15 dias, porque eu estava acompanhando o processo de repactuação da dívida com os bancos, que ia muito bem. O BNDES deu a esse grupo todas as chances de estabelecer um verdadeiro diálogo edificante.  Quando a JBS concordou em marcar a assembleia?  Depois do acordo com os credores no final de julho eles vieram discutir os termos da convocação da assembleia. E me deram trabalho, porque não queriam dizer o que tinha que ser dito, que era o pedido de apuração de eventuais prejuízos provocados pelos administradores.  Também é importante esclarecer que não estamos pedindo para processar os administradores. É a lei das sociedades anônimas que determina que, se alguém é alvo de uma avaliação por falta de ética, não pode estar à frente de uma companhia.  A opinião pública quer vindicar uma imunidade [concedida pela Procuradoria Geral da República] vista como impunidade. Por isso, passaram a interpretar que o BNDES queria tirar os Batista da empresa.  Na época, nós sugerimos a criação de um comitê executivo que ajude o CEO a tomar decisões mais complexas. Ou seja, vamos nos beneficiar da experiência de Wesley Batista, mas fora da posição de coordenador máximo da empresa.  Isso foi feito, mas ele se manteve no posto. Daí foi convocada a assembleia para o dia 1º de setembro. O resto da história é pública. É óbvio que nós requeremos de modo cautelar que as pessoas que têm conflito de interesse não votem.  Por que o BNDES decidiu trocar seus conselheiros na JBS? O senhor já tem os novos nomes?  Claudia Santos e Maurício Luchetti são extraordinários. O Maurício pediu para sair, porque cumpriu seu ciclo [ele renunciou na semana passada]. Vamos aproveitar a Claudia em outros conselhos importantes. E vamos colocar novos nomes com força total.  Já temos os novos nomes, mas ainda está pendente de aprovação final porque o processo seletivo do BNDES é muito rigoroso. Um deles chegou a ser especulado como presidente, é o Cledorvino Belini (ex-Fiat). Por todos os critérios, é um nome de alto coturno e provavelmente será o nosso indicado.  Também queremos influenciar na escolha dos conselheiros independentes. Temos dois nomes prontos para serem apresentados. Mas daí não vai passar só pelo nosso crivo. E gostaríamos ainda de levar a conselho um nome excepcional para ser diretor financeiro, que, por incrível que pareça, é praticamente inexistente.  Na reunião, a conselheira do BNDES sugeriu o nome de Gilberto Tomazoni como presidente interino. O banco mantém essa posição?  Ela teve uma rápida conversa comigo e nós sugerimos esse nome como um gesto de boa vontade, porque esse aparentemente seria o nome do coração do senhor Tarek e reconhecido pelo mercado de alta competência. Eu não o conheço pessoalmente.  Rodrigo Janot anunciou que vai rescindir o acordo de colaboração premiada de Joesley Batista. Se isso derrubar o acordo de leniência, o impacto será muito grande para a empresa?  Espero que não. É preciso separar os CPFs e o CNPJs. O BNDES está preparado e tem discutido com a AGU (Advocacia Geral da União) e estamos trazendo informações para os juízes da absoluta necessidade de proteger os empregos dos brasileiros. A punição exemplar aos CPFs não pode se confundir com os CNPJs.  Essa é uma crise de fricção institucional dentro da empresa. A posição conhecida dos Batista é 41%. Eles podem estar controlando, mas não são donos da empresa. Se agiam como donos antes, passaram a conhecer a sua verdadeira condição de sócios.  *  RAIO-X PAULO RABELLO DE CASTRO  Cargo: presidente do BNDES desde junho  Formação: graduado em economia pela UFRJ (1971) e em direito pela Uerj (1971). Mestre e doutor em economia pela Universidade de Chicago  Carreira: presidiu o IBGE (2016). Fundou a SR Rating, empresa de classificação de riscos de crédito. Presidiu o Lide Economia. Coordenou o Movimento Brasil Eficiente até junho de 2016\n",
            "\n",
            "\n",
            "Líder do Legislativo da Venezuela visita Lula e fábricas em viagem a SP - O presidente da Assembleia Nacional da Venezuela, Diosdado Cabello, visitou o ex-presidente Luiz Inácio Lula da Silva em seu primeiro evento durante uma viagem ao Brasil.  A foto do encontro foi publicada na madrugada desta quarta-feira (10) por Cabello, em sua página no Twitter. \"Camaradas, por instruções do companheiro presidente Nicolás Maduro ando pelo Brasil, trabalhando por e para a pátria.\"  Diosdado Cabello (à direita) e Rodolfo Torres entregam fotografia ao presidente Lula  O líder do Legislativo e um dos principais aliados de Maduro lidera uma comissão que se reunirá com empresários e membros da área econômica do governo para tentar buscar apoios para aumentar a capacidade produtiva da Venezuela.  Além de Cabello, vieram ao Brasil os ministros da Economia, Rodolfo Torres; da Indústria, José David Cabello, e o presidente da Corporação Venezuelana de Comércio Exterior, Giuseppe Yoffreda.  Nesta quarta, eles visitaram duas fábricas da brasileira JBS no interior de São Paulo –uma de processamento de carne e de frango em Amparo (a 133 km da capital) e outra de higiene e limpeza em Lins (a 431 km da capital).  O ministro José David Cabello, que é irmão do presidente da Assembleia Nacional, publicou fotos da visita no Twitter, onde ele diz que a intenção é ver a tecnologia de processamento para poder reproduzi-la em território venezuelano.  José David Cabello observa produção de carne na fábrica da JBS em Amparo (SP)  Dona de marcas como Friboi e Minuano, a JBS é uma das principais exportadoras de produtos brasileiros para a Venezuela. À Folha em março, a empresa reconheceu a oportunidade de negócios no país em meio à crise.  Na época, a empresa negou ter sido procurada pelo governo brasileiro para aumentar as exportações ao país sul-americano, que enfrenta desabastecimento devido à inflação e aos controles na venda de moedas estrangeiras.  OPOSIÇÃO  A viagem é feita uma semana antes de uma comissão do Senado brasileiro, liderada pelo senador Aécio Neves (PSDB-MG), ir a Caracas para verificar a situação dos adversários presos do presidente Nicolás Maduro.  Eles ainda visitarão familiares dos dirigentes opositores Leopoldo López e Daniel Ceballos, presos desde 2014 acusados de incitação à violência e em greve de fome desde maio em protesto contra as detenções.  A intenção de Aécio é se contrapor à presidente Dilma Rousseff, que, assim como outros dirigentes latino-americanos, não tomou uma posição sobre a situação no país e é criticada por adversários políticos.  Já Cabello deixa Caracas em meio às acusações da Justiça dos EUA de que ele seria chefe de uma quadrilha do tráfico de drogas que opera a partir das Forças Armadas.  Ele nega a acusação, afirma ser vítima de uma conspiração da Espanha e dos Estados Unidos e ameaçou processar os jornais que publicaram a denúncia.\n",
            "\n",
            "\n",
            "FHC diz que 'não há golpe nenhum' em curso no país - O ex-presidente Fernando Henrique Cardoso afirmou à Folha que \"não há golpe nenhum\" no processo de impeachment da presidente Dilma Rousseff e, comparando o atual momento com 1964, quando o João Goulart foi deposto pelo regime militar, disse que \"se fosse no passado, a esta altura estaríamos falando nos nomes dos generais\".  \"Não há golpe nenhum. O lado positivo do Brasil de hoje é que não há golpe no ar. Se fosse no passado, com esse clima político, econômico e social, com corrupção, a esta altura estávamos falando nos nomes dos generais. Ninguém sabe os nomes dos generais, mas todo mundo sabe o nome dos ministros da Corte Suprema. É uma mudança radical da cultura brasileira\", afirmou.  Para FHC, o argumento da presidente Dilma de que é vítima de um golpe \"não é baseado na realidade\".  \"O tempo todo a discussão foi jurídica. Temos um cenário em que o Supremo Tribunal Federal controla o processo\", disse o ex-presidente.  FHC afirmou que a decisão da Câmara deste domingo (17) foi \"uma vitória acachapante do impeachment\" e uma demonstração de democracia \"bonita e positiva\".  \"Mostra que o governo perdeu o controle sobre o Congresso e, por consequência, não tem condições de levar adiante o projeto que o Brasil necessita.\"  O ex-presidente disse, no entanto, que a decisão na Câmara é por enquanto é o \"começo do processo\" e que é preciso \"olhar o que vai acontecer no Senado\".  Mais cedo, no seminário \"Desafios ao Estado de Direito na América Latina - Independência Judicial e corrupção\", FHC classificou o processo como \"violento\". Segundo ele, porém, uma saída da presidente eleita Dilma Rousseff não caracterizaria risco à democracia do Brasil.\n",
            "\n",
            "\n",
            "Primeiro mês de governo Trump deixa Washington em estado de choque - A renúncia de Michael T. Flynn como assessor de Segurança Nacional, na noite de segunda-feira (13), veio coroar um primeiro mês altamente tumultuado na Casa Branca de Donald Trump.  Os primeiros dias da Presidência foram carregados de escândalos, contestações legais, dramas envolvendo funcionários e questionamentos sobre o temperamento do presidente em suas interações com outros líderes mundiais.  General reformado do Exército, Flynn ficou só 24 dias no cargo, até admitir ter enganado o vice-presidente e outros colegas na Casa Branca sobre o teor de um telefonema que teve com o embaixador da Rússia nos Estados Unidos.  Sua renúncia e a turbulência atual no Conselho de Segurança Nacional abalaram profundamente o establishment de Washington.  O senador republicano John McCain, do Arizona, divulgou comunicado nesta terça (14) criticando a \"disfunção\" do aparato de segurança nacional do país.  O general Tony Thomas, chefe do Comando de Operações Especiais das Forças Armadas, expressou sua preocupação com a turbulência presente na Casa Branca.  \"Nosso governo continua em estado de turbulência inacreditável. Espero que ele resolva a situação em breve, porque somos uma nação em guerra\", ele disse em conferência militar na terça-feira.  Indagado mais tarde sobre suas declarações, Thomas respondeu em uma entrevista breve: \"Como comandante, minha preocupação é que nosso governo seja o mais estável possível\".  Mas a saída de Flynn, tarde da noite, veio apenas intensificar o clima maior de caos na Casa Branca.  Em um prazo recorde, o 45º presidente provocou reações de indignação global com um decreto proibindo a entrada de viajantes de países muçulmanos.  Dias depois demitiu sua secretária interina de Justiça por recusar-se a defender o decreto e viu tribunais reagirem rapidamente para obstruir a aplicação do decreto, qualificando-o como uso inconstitucional do Poder Executivo.  O presidente cancelou furiosamente uma reunião marcada com o presidente mexicano, desligou na cara do primeiro-ministro da Austrália, autorizou uma operação de comandos que resultou na morte de um membro da unidade de SEALS da Marinha, mentiu repetidas vezes sobre a existência de milhões de votos fraudulentos que teriam sido depositados na eleição de 2016 e travou guerras no Twitter com senadores, o dono de um time esportivo, uma atriz de Hollywood e uma grande rede de lojas de departamentos. Suas palavras e ações geraram protestos quase diários pelo país afora.  Apesar da turbulência, o presidente vem avançando em áreas mais típicas dos primeiros dias de um governo de primeiro mandato.  Doze dias depois de ser empossado, Trump indicou um juiz para a Suprema Corte; ele já emitiu uma dúzia de ordens executivas, incluindo algumas para limitar a influência de lobistas, reduzir regulamentos, enxugar a Affordable Care Act (a lei de reforma da saúde legada por Obama), adiantar a construção de um oleoduto, acabar com acordos comerciais e aumentar as deportações de imigrantes ilegais.  Mas metade de seu gabinete ainda não foi confirmada pelo Senado, controlado pelo Partido Republicano, e vários outros de seus assessores principais na Casa Branca viraram alvos de zombaria diária por humoristas em programas de TV.  DESDE 1995  Tudo isso deixou o establishment de Washington exausto e em choque, esforçando-se para entender e acompanhar a tempestade quase constante de atividade que gira em torno do presidente e seus assessores.  \"Tivemos o 'Obama sem drama'; agora temos o Trump que é só drama, o tempo todo\", comentou o veterano estrategista republicano John Feehery, que comparou as últimas semanas ao início caótico do período em que New Gingrich presidiu a Câmara dos Deputados, em 1995.  \"Newt nunca se acalmou. Era sempre uma crise depois de outra\", Feehery recordou. \"Talvez esta se torne a nova normalidade. As pessoas vão se acostumar a ela, mas também ficarão exaustas com isso.\"  Como candidato, Trump prometeu agir rapidamente para cumprir suas promessas. Um elemento central de sua agenda de campanha foi sua promessa de ser uma força que perturbaria o status quo em Washington —e isso é algo que ele vem fazendo, sem dúvida alguma.  Mas as perturbações carregam um custo: o presidente avançou pouco até agora com uma legislação que possa revogar a lei de reforma da saúde de Obama.  A Casa Branca não apresentou ainda uma lei prometida para reparar estradas, pontes e túneis deteriorados. E os assessores do presidente ainda não traçaram planos para uma reforma do código tributário nacional.  \"É bastante previsível\", disse Feehery. \"Esse homem nunca antes participou do governo. E prometeu perturbar o status quo.\"  Tradução de CLARA ALLAIN\n",
            "\n",
            "\n",
            "\n",
            "\t\tThiago Braz fatura o ouro com recorde olímpico no salto com vara\n",
            "\t\t - Veja o vídeoA competição se iniciou com cerca de uma hora de atraso devido à forte chuva que caiu no estádio pouco antes do início da sessão noturna. Depois que a água deu uma trégua, a disputa recomeçou para logo ser paralisada. O equipamento que eleva o sarrafo simplesmente quebrou. Os competidores esperaram por aproximadamente 15 minutos até que a solução, manual, fosse encontrada.Depois disso, um embate de um nível técnico altíssimo se seguiu por duas horas perante um estádio parcialmente vazio que se tornou ensurdecedor a cada salto do brasileiro.Thiago superou o sarrafo, na sequência, em 5,65 m, 5,75 m e 5,93 m. Conforme os rivais caíram, um a um, sobrou neste estágio somente o mais temido entre os oponentes: o francês Renaud Lavillenie, atual campeão olímpico na vara e recordista mundial (6,16 m).O favorito acertou todos os seus saltos até chegar a 6,03 m. Aí Thiago fez mágica. Acertou sua tentativa para a marca, incendiou o Engenhão, bateu o recorde olímpico da prova e seu recorde continental.\n",
            "\n",
            "\n",
            "Folha estreia nesta terça blog sobre economia do século 21 - A Folha estreia nesta terça-feira (8) o blog \"A Economia no Século 21\", do professor e pesquisador da EESP-FGV Bernardo Guimarães.  O blog pretende explicar a lógica econômica por trás dos acontecimentos correntes e trazer dados e histórias relevantes ao debate.  \"O objetivo é enriquecer as discussões sobre a economia\", diz Guimarães.  O blog também pretende tratar de questões econômicas que aparecem pouco nas notícias. \"É natural que assuntos como o ajuste fiscal e a inflação recebam a maior parte da atenção, mas economia é muito mais que isso.\"  O mercado financeiro não é o foco do blog, mas o primeiro post mostra um recorde negativo da Bolsa de Valores que foi pouco notado: em termos reais, o Índice Bovespa bateu em agosto seu menor nível em dez anos.  INSTITUIÇÕES  Graduado em engenharia na USP, com mestrado em economia na USP e doutorado em Yale, Guimarães é citado como um dos mais promissores economistas da nova geração.  Em 2003, escreveu um artigo com o economista americano Nouriel Roubini sobre países que recebem ajuda do FMI. Depois de lecionar por seis anos na London Business School, decidiu voltar ao Brasil. Não tem pretensão de trabalhar no governo. \"Eu sinto que ajudo mais o país ensinando as pessoas\", afirmou à Folha em entrevista no começo deste ano.  Economista de linha ortodoxa, diz que o termo não faz jus a pesquisadores como ele. \"Ninguém quer reproduzir o passado, a ortodoxia. Queremos superá-la.\"  Dedica-se atualmente a pesquisar a relevância das instituições no desenvolvimento e a relação entre as expectativas e o desempenho econômico.\n",
            "\n",
            "\n",
            "Deutsche Bank é multado em quase US$ 630 mi por lavagem de dinheiro - Autoridades de Nova York e do Reino Unido aplicaram multas de quase US$ 630 milhões ao Deutsche Bank por lavagem de dinheiro proveniente da Rússia.  O esquema sacava ilegalmente cerca de US$ 10 bilhões da Rússia usando as sedes do banco de Moscou, Londres e Nova York, disseram as autoridades.  As multas se somam a outra série de medidas legais contra o banco alemão. Há duas semanas, a instituição financeira chegou a um acordo de US$ 7,2 bilhões com o Departamento de Justiça americano por sua participação na crise financeira global em 2008.  Em nota, as autoridades em Nova York disseram que se uniam a seus colegas britânicos do FCA depois de determinar que o Deutsche Bank exigia garantias muito frágeis para evitar a lavagem de dinheiro e o risco do cliente.  Pelo menos US$ 425 milhões serão pagos ao Departamento de Justiça americano e US$ 204 milhões à autoridade britânica.  \"O Deutsche Bank e vários de seus altos executivos falharam em situações importantes em detectar, interceptar e investigar sobre o artifício (...) facilitado por sua filial russa e implicando os escritórios em Nova York e Londres\", criticou o departamento americano.  \"No mundo financeiro atual de redes interconectadas, as instituições financeiras globais devem estar vigilantes na guerra contra a lavagem de dinheiro e de outras atividades que possam contribuir para os cibercrimes e para o terrorismo internacional\", acrescentou a superintendente Maria Vullo, do órgão americano.\n",
            "\n",
            "\n",
            "Aniversário de um ano do 7 a 1 para a Alemanha vira piada na internet - O aniversário de um ano da derrota da seleção brasileira para a Alemanha na semifinal da Copa é um dos assuntos mais comentados do dia nas redes sociais. Como era esperado, foram muitas as piadas dos internautas para a trágica partida do Mineirão.  Além de ter sido a eliminação mais vexatória da seleção em Mundiais, o jogo ainda impôs o pior revés da equipe em 100 anos.  No Twitter, a hashtag \"#7x1Day\" colocou a goleada como o assunto mais comentado desta quarta-feira (8).  Não faltaram torcedores para celebrar que o Brasil está a 365 dias sem sofrer gol da seleção alemã.  O goleiro Júlio César, vazado sete vezes na semifinal do Mundial, foi lembrado, assim como o choro do zagueiro David Luiz, de pífia atuação, após o apito final. As reações de celebridades, como a apresentadora Sandra Annenberg, e de crianças a cada gol da Alemanha causaram muitos risos aos internautas.  \"Hoje faz um ano da criação da barra de rolagem no placar da Fifa\", tuitou um torcedor, lembrando que a equipe de transmissão da entidade não previu tantos nomes na lista dos artilheiros da partida.  Houve quem ficasse irritado com tantas brincadeiras. \"7 a 1 nos trending mundiais. Não basta passar vergonha uma vez, vocês que lembrá-la para o mundo um ano depois, né?\", escreveu um internauta que preferia ver tudo ser esquecido.\n",
            "\n",
            "\n"
          ]
        }
      ],
      "source": [
        "for row in df.sample(50, random_state=271828).itertuples():\n",
        "    print(f\"{row.title} - {row.text}\")\n",
        "    print(\"\\n\")"
      ]
    },
    {
      "cell_type": "code",
      "execution_count": 8,
      "metadata": {
        "colab": {
          "base_uri": "https://localhost:8080/",
          "height": 423
        },
        "id": "mfw095IssfV2",
        "outputId": "c8790bb8-f990-494f-bdeb-ca5d86a1703f"
      },
      "outputs": [
        {
          "data": {
            "text/html": [
              "<div>\n",
              "<style scoped>\n",
              "    .dataframe tbody tr th:only-of-type {\n",
              "        vertical-align: middle;\n",
              "    }\n",
              "\n",
              "    .dataframe tbody tr th {\n",
              "        vertical-align: top;\n",
              "    }\n",
              "\n",
              "    .dataframe thead th {\n",
              "        text-align: right;\n",
              "    }\n",
              "</style>\n",
              "<table border=\"1\" class=\"dataframe\">\n",
              "  <thead>\n",
              "    <tr style=\"text-align: right;\">\n",
              "      <th></th>\n",
              "      <th>index</th>\n",
              "      <th>title</th>\n",
              "      <th>text</th>\n",
              "    </tr>\n",
              "  </thead>\n",
              "  <tbody>\n",
              "    <tr>\n",
              "      <th>0</th>\n",
              "      <td>0</td>\n",
              "      <td>Lula diz que está 'lascado', mas que ainda tem...</td>\n",
              "      <td>com a possibilidade de uma condenação impedir ...</td>\n",
              "    </tr>\n",
              "    <tr>\n",
              "      <th>1</th>\n",
              "      <td>2</td>\n",
              "      <td>Três reportagens da Folha ganham Prêmio Petrob...</td>\n",
              "      <td>três reportagens da folha foram vencedoras do ...</td>\n",
              "    </tr>\n",
              "    <tr>\n",
              "      <th>2</th>\n",
              "      <td>4</td>\n",
              "      <td>CBSS inicia acordos com fintechs e quer 30% do...</td>\n",
              "      <td>o cbss, banco da holding elopar dos sócios bra...</td>\n",
              "    </tr>\n",
              "    <tr>\n",
              "      <th>3</th>\n",
              "      <td>5</td>\n",
              "      <td>Em encontro, Bono pergunta a Macri sobre argen...</td>\n",
              "      <td>o vocalista da banda irlandesa u2, bono, fez u...</td>\n",
              "    </tr>\n",
              "    <tr>\n",
              "      <th>4</th>\n",
              "      <td>6</td>\n",
              "      <td>Posso sair do Brasil quando e como quiser, diz...</td>\n",
              "      <td>o italiano cesare battisti disse nesta segunda...</td>\n",
              "    </tr>\n",
              "    <tr>\n",
              "      <th>...</th>\n",
              "      <td>...</td>\n",
              "      <td>...</td>\n",
              "      <td>...</td>\n",
              "    </tr>\n",
              "    <tr>\n",
              "      <th>79847</th>\n",
              "      <td>167046</td>\n",
              "      <td>Apoiado pelos irmãos Gomes, petista toma posse...</td>\n",
              "      <td>engenheiro agrônomo e servidor licenciado do i...</td>\n",
              "    </tr>\n",
              "    <tr>\n",
              "      <th>79848</th>\n",
              "      <td>167048</td>\n",
              "      <td>Em cenário de crise, tucano Beto Richa assume ...</td>\n",
              "      <td>o tucano beto richa tinha tudo para começar se...</td>\n",
              "    </tr>\n",
              "    <tr>\n",
              "      <th>79849</th>\n",
              "      <td>167049</td>\n",
              "      <td>Filho supera senador Renan Calheiros e assume ...</td>\n",
              "      <td>o economista renan filho (pmdb) assume nesta q...</td>\n",
              "    </tr>\n",
              "    <tr>\n",
              "      <th>79850</th>\n",
              "      <td>167050</td>\n",
              "      <td>Hoje na TV: Tottenham x Chelsea, Campeonato In...</td>\n",
              "      <td>destaques da programação desta quinta-feira (1...</td>\n",
              "    </tr>\n",
              "    <tr>\n",
              "      <th>79851</th>\n",
              "      <td>167051</td>\n",
              "      <td>Kim Jong-un diz estar aberto a se reunir com p...</td>\n",
              "      <td>o líder norte-coreano, kim jong-un, disse nest...</td>\n",
              "    </tr>\n",
              "  </tbody>\n",
              "</table>\n",
              "<p>79852 rows × 3 columns</p>\n",
              "</div>"
            ],
            "text/plain": [
              "        index                                              title  \\\n",
              "0           0  Lula diz que está 'lascado', mas que ainda tem...   \n",
              "1           2  Três reportagens da Folha ganham Prêmio Petrob...   \n",
              "2           4  CBSS inicia acordos com fintechs e quer 30% do...   \n",
              "3           5  Em encontro, Bono pergunta a Macri sobre argen...   \n",
              "4           6  Posso sair do Brasil quando e como quiser, diz...   \n",
              "...       ...                                                ...   \n",
              "79847  167046  Apoiado pelos irmãos Gomes, petista toma posse...   \n",
              "79848  167048  Em cenário de crise, tucano Beto Richa assume ...   \n",
              "79849  167049  Filho supera senador Renan Calheiros e assume ...   \n",
              "79850  167050  Hoje na TV: Tottenham x Chelsea, Campeonato In...   \n",
              "79851  167051  Kim Jong-un diz estar aberto a se reunir com p...   \n",
              "\n",
              "                                                    text  \n",
              "0      com a possibilidade de uma condenação impedir ...  \n",
              "1      três reportagens da folha foram vencedoras do ...  \n",
              "2      o cbss, banco da holding elopar dos sócios bra...  \n",
              "3      o vocalista da banda irlandesa u2, bono, fez u...  \n",
              "4      o italiano cesare battisti disse nesta segunda...  \n",
              "...                                                  ...  \n",
              "79847  engenheiro agrônomo e servidor licenciado do i...  \n",
              "79848  o tucano beto richa tinha tudo para começar se...  \n",
              "79849  o economista renan filho (pmdb) assume nesta q...  \n",
              "79850  destaques da programação desta quinta-feira (1...  \n",
              "79851  o líder norte-coreano, kim jong-un, disse nest...  \n",
              "\n",
              "[79852 rows x 3 columns]"
            ]
          },
          "execution_count": 8,
          "metadata": {},
          "output_type": "execute_result"
        }
      ],
      "source": [
        "# Convert all characters in the 'text' column to lowercase\n",
        "# This ensures uniformity in text data, which is useful for text processing tasks\n",
        "df[\"text\"] = df[\"text\"].str.lower()\n",
        "\n",
        "df"
      ]
    },
    {
      "cell_type": "code",
      "execution_count": 9,
      "metadata": {
        "id": "cfYWm07ktZXO"
      },
      "outputs": [],
      "source": [
        "from utils.text import (\n",
        "    remove_accented_characters,\n",
        "    remove_excessive_spaces,\n",
        "    remove_repeated_letters,\n",
        "    remove_repeated_non_word_characters,\n",
        ")"
      ]
    },
    {
      "cell_type": "code",
      "execution_count": 10,
      "metadata": {},
      "outputs": [],
      "source": [
        "from sklearn.pipeline import Pipeline\n",
        "from sklearn.preprocessing import FunctionTransformer\n",
        "\n",
        "# Create a text cleaning pipeline using scikit-learn's Pipeline\n",
        "# Each step in the pipeline applies a specific text cleaning function\n",
        "\n",
        "pipeline_clean_text = Pipeline(\n",
        "    [\n",
        "        # Step 1: Remove accented characters from the text\n",
        "        (\"remove_accented_characters\", FunctionTransformer(remove_accented_characters)),\n",
        "        # Step 2: Remove excessive spaces from the text\n",
        "        (\"remove_excessive_spaces\", FunctionTransformer(remove_excessive_spaces)),\n",
        "        # Step 3: Remove repeated letters from the text\n",
        "        (\"remove_repeated_letters\", FunctionTransformer(remove_repeated_letters)),\n",
        "        # Step 4: Remove repeated non-word characters (e.g., punctuation) from the text\n",
        "        (\n",
        "            \"remove_repeated_non_word_characters\",\n",
        "            FunctionTransformer(remove_repeated_non_word_characters),\n",
        "        ),\n",
        "    ]\n",
        ")"
      ]
    },
    {
      "cell_type": "code",
      "execution_count": 11,
      "metadata": {},
      "outputs": [
        {
          "name": "stdout",
          "output_type": "stream",
          "text": [
            "(79852, 3)\n",
            "(79852, 3)\n"
          ]
        }
      ],
      "source": [
        "# Print the shape of the DataFrame before dropping rows with missing 'text' values\n",
        "# This shows the number of rows and columns in the DataFrame initially\n",
        "print(df.shape)\n",
        "\n",
        "# Drop rows where the 'text' column has NaN (missing) values\n",
        "# The 'inplace=True' parameter modifies the DataFrame in place without returning a new DataFrame\n",
        "df = df.dropna(subset=[\"text\"])\n",
        "\n",
        "print(df.shape)"
      ]
    },
    {
      "cell_type": "code",
      "execution_count": 12,
      "metadata": {},
      "outputs": [
        {
          "data": {
            "text/html": [
              "<div>\n",
              "<style scoped>\n",
              "    .dataframe tbody tr th:only-of-type {\n",
              "        vertical-align: middle;\n",
              "    }\n",
              "\n",
              "    .dataframe tbody tr th {\n",
              "        vertical-align: top;\n",
              "    }\n",
              "\n",
              "    .dataframe thead th {\n",
              "        text-align: right;\n",
              "    }\n",
              "</style>\n",
              "<table border=\"1\" class=\"dataframe\">\n",
              "  <thead>\n",
              "    <tr style=\"text-align: right;\">\n",
              "      <th></th>\n",
              "      <th>index</th>\n",
              "      <th>title</th>\n",
              "      <th>text</th>\n",
              "    </tr>\n",
              "  </thead>\n",
              "  <tbody>\n",
              "    <tr>\n",
              "      <th>0</th>\n",
              "      <td>0</td>\n",
              "      <td>Lula diz que está 'lascado', mas que ainda tem...</td>\n",
              "      <td>com a possibilidade de uma condenacao impedir ...</td>\n",
              "    </tr>\n",
              "    <tr>\n",
              "      <th>1</th>\n",
              "      <td>2</td>\n",
              "      <td>Três reportagens da Folha ganham Prêmio Petrob...</td>\n",
              "      <td>tres reportagens da folha foram vencedoras do ...</td>\n",
              "    </tr>\n",
              "    <tr>\n",
              "      <th>2</th>\n",
              "      <td>4</td>\n",
              "      <td>CBSS inicia acordos com fintechs e quer 30% do...</td>\n",
              "      <td>o cbss, banco da holding elopar dos socios bra...</td>\n",
              "    </tr>\n",
              "    <tr>\n",
              "      <th>3</th>\n",
              "      <td>5</td>\n",
              "      <td>Em encontro, Bono pergunta a Macri sobre argen...</td>\n",
              "      <td>o vocalista da banda irlandesa u2, bono, fez u...</td>\n",
              "    </tr>\n",
              "    <tr>\n",
              "      <th>4</th>\n",
              "      <td>6</td>\n",
              "      <td>Posso sair do Brasil quando e como quiser, diz...</td>\n",
              "      <td>o italiano cesare battisti disse nesta segunda...</td>\n",
              "    </tr>\n",
              "    <tr>\n",
              "      <th>...</th>\n",
              "      <td>...</td>\n",
              "      <td>...</td>\n",
              "      <td>...</td>\n",
              "    </tr>\n",
              "    <tr>\n",
              "      <th>79847</th>\n",
              "      <td>167046</td>\n",
              "      <td>Apoiado pelos irmãos Gomes, petista toma posse...</td>\n",
              "      <td>engenheiro agronomo e servidor licenciado do i...</td>\n",
              "    </tr>\n",
              "    <tr>\n",
              "      <th>79848</th>\n",
              "      <td>167048</td>\n",
              "      <td>Em cenário de crise, tucano Beto Richa assume ...</td>\n",
              "      <td>o tucano beto richa tinha tudo para comecar se...</td>\n",
              "    </tr>\n",
              "    <tr>\n",
              "      <th>79849</th>\n",
              "      <td>167049</td>\n",
              "      <td>Filho supera senador Renan Calheiros e assume ...</td>\n",
              "      <td>o economista renan filho (pmdb) assume nesta q...</td>\n",
              "    </tr>\n",
              "    <tr>\n",
              "      <th>79850</th>\n",
              "      <td>167050</td>\n",
              "      <td>Hoje na TV: Tottenham x Chelsea, Campeonato In...</td>\n",
              "      <td>destaques da programacao desta quinta-feira (1...</td>\n",
              "    </tr>\n",
              "    <tr>\n",
              "      <th>79851</th>\n",
              "      <td>167051</td>\n",
              "      <td>Kim Jong-un diz estar aberto a se reunir com p...</td>\n",
              "      <td>o lider norte-coreano, kim jong-un, disse nest...</td>\n",
              "    </tr>\n",
              "  </tbody>\n",
              "</table>\n",
              "<p>79852 rows × 3 columns</p>\n",
              "</div>"
            ],
            "text/plain": [
              "        index                                              title  \\\n",
              "0           0  Lula diz que está 'lascado', mas que ainda tem...   \n",
              "1           2  Três reportagens da Folha ganham Prêmio Petrob...   \n",
              "2           4  CBSS inicia acordos com fintechs e quer 30% do...   \n",
              "3           5  Em encontro, Bono pergunta a Macri sobre argen...   \n",
              "4           6  Posso sair do Brasil quando e como quiser, diz...   \n",
              "...       ...                                                ...   \n",
              "79847  167046  Apoiado pelos irmãos Gomes, petista toma posse...   \n",
              "79848  167048  Em cenário de crise, tucano Beto Richa assume ...   \n",
              "79849  167049  Filho supera senador Renan Calheiros e assume ...   \n",
              "79850  167050  Hoje na TV: Tottenham x Chelsea, Campeonato In...   \n",
              "79851  167051  Kim Jong-un diz estar aberto a se reunir com p...   \n",
              "\n",
              "                                                    text  \n",
              "0      com a possibilidade de uma condenacao impedir ...  \n",
              "1      tres reportagens da folha foram vencedoras do ...  \n",
              "2      o cbss, banco da holding elopar dos socios bra...  \n",
              "3      o vocalista da banda irlandesa u2, bono, fez u...  \n",
              "4      o italiano cesare battisti disse nesta segunda...  \n",
              "...                                                  ...  \n",
              "79847  engenheiro agronomo e servidor licenciado do i...  \n",
              "79848  o tucano beto richa tinha tudo para comecar se...  \n",
              "79849  o economista renan filho (pmdb) assume nesta q...  \n",
              "79850  destaques da programacao desta quinta-feira (1...  \n",
              "79851  o lider norte-coreano, kim jong-un, disse nest...  \n",
              "\n",
              "[79852 rows x 3 columns]"
            ]
          },
          "execution_count": 12,
          "metadata": {},
          "output_type": "execute_result"
        }
      ],
      "source": [
        "# Apply the text cleaning pipeline to the 'text' column of the DataFrame\n",
        "# 'pipeline_clean_text.transform' applies all the cleaning steps defined in the pipeline\n",
        "# The 'apply' method applies the transformation to each element in the 'text' column\n",
        "df[\"text\"] = df[\"text\"].apply(pipeline_clean_text.transform)\n",
        "\n",
        "df"
      ]
    },
    {
      "cell_type": "code",
      "execution_count": 13,
      "metadata": {},
      "outputs": [
        {
          "name": "stdout",
          "output_type": "stream",
          "text": [
            "(79791, 3)\n"
          ]
        }
      ],
      "source": [
        "# Drop duplicate rows based on the 'text' column\n",
        "# This ensures that each text entry in the DataFrame is unique\n",
        "# The 'inplace=True' parameter modifies the DataFrame in place without returning a new DataFrame\n",
        "df = df.drop_duplicates(subset=[\"text\"])\n",
        "\n",
        "print(df.shape)"
      ]
    },
    {
      "cell_type": "code",
      "execution_count": 14,
      "metadata": {},
      "outputs": [
        {
          "data": {
            "text/plain": [
              "count    79791.000000\n",
              "mean      2673.606898\n",
              "std       1820.254852\n",
              "min         28.000000\n",
              "5%         808.000000\n",
              "10%       1058.000000\n",
              "25%       1551.000000\n",
              "50%       2341.000000\n",
              "75%       3323.000000\n",
              "80%       3608.000000\n",
              "90%       4531.000000\n",
              "95%       5625.000000\n",
              "98%       7311.600000\n",
              "99%       8784.000000\n",
              "99.9%    17385.680000\n",
              "max      60816.000000\n",
              "Name: text, dtype: float64"
            ]
          },
          "execution_count": 14,
          "metadata": {},
          "output_type": "execute_result"
        }
      ],
      "source": [
        "# Calculate descriptive statistics for the length of text in the 'text' column\n",
        "# The 'str.len()' method computes the length of each string in the 'text' column\n",
        "# The 'describe()' method provides summary statistics for these lengths\n",
        "# The list of percentiles [0.05, 0.1, 0.25, 0.5, 0.75, 0.8, 0.9, 0.95, 0.98, 0.99, 0.999] specifies additional percentiles to include in the summary\n",
        "df[\"text\"].str.len().describe([0.05, 0.1, 0.25, 0.5, 0.75, 0.8, 0.9, 0.95, 0.98, 0.99, 0.999])"
      ]
    },
    {
      "cell_type": "code",
      "execution_count": 15,
      "metadata": {},
      "outputs": [
        {
          "name": "stdout",
          "output_type": "stream",
          "text": [
            "[ 526.  7311.6]\n",
            "(76597, 3)\n"
          ]
        }
      ],
      "source": [
        "# Calculate the 2th and 98th percentiles for the length of text in the 'text' column\n",
        "# The 'quantile' method returns the specified percentiles as a Series\n",
        "# The 'values' attribute converts the Series to a NumPy array for easier indexing\n",
        "quantiles = df[\"text\"].str.len().quantile([0.02, 0.98]).values\n",
        "\n",
        "# Filter the DataFrame to keep only rows where the text length is greater than the 10th percentile\n",
        "df = df[df[\"text\"].str.len() > quantiles[0]]\n",
        "\n",
        "# Further filter the DataFrame to keep only rows where the text length is less than or equal to the 99th percentile\n",
        "df = df[df[\"text\"].str.len() <= quantiles[1]]\n",
        "\n",
        "print(quantiles)\n",
        "print(df.shape)"
      ]
    },
    {
      "cell_type": "code",
      "execution_count": 17,
      "metadata": {},
      "outputs": [
        {
          "name": "stdout",
          "output_type": "stream",
          "text": [
            "Sample size: 385\n"
          ]
        }
      ],
      "source": [
        "# Import the math module for mathematical functions\n",
        "import math\n",
        "\n",
        "# Calculate the total number of reviews in the dataset\n",
        "n = len(df)  # Total number of reviews\n",
        "\n",
        "# Define the Z-value for a 95% confidence level\n",
        "# This value corresponds to the number of standard deviations from the mean in a normal distribution\n",
        "z = 1.96  # Z-value for 95% confidence level\n",
        "\n",
        "# Define the expected proportion of positive reviews\n",
        "# We assume 50% (0.5) as the worst-case scenario to maximize the sample size\n",
        "p = 0.5  # Expected proportion of positive reviews\n",
        "\n",
        "# Define the margin of error we are willing to accept\n",
        "# This value represents the maximum acceptable difference between the sample estimate and the true population value\n",
        "e = 0.05  # Margin of error\n",
        "\n",
        "# Calculate the required sample size using the formula for sample size estimation\n",
        "# The formula is derived from the standard error of the proportion\n",
        "# We use math.ceil to round up to the nearest whole number, ensuring the sample size is sufficient\n",
        "sample_size = math.ceil((z**2 * p * (1 - p)) / e**2)\n",
        "\n",
        "# Print the calculated sample size\n",
        "print(f\"Sample size: {sample_size}\")"
      ]
    },
    {
      "cell_type": "code",
      "execution_count": 16,
      "metadata": {},
      "outputs": [
        {
          "name": "stdout",
          "output_type": "stream",
          "text": [
            "Original dataset size:  76597\n",
            "Train set size: 74997\n",
            "Dev/Test set size: 1600\n"
          ]
        }
      ],
      "source": [
        "# We'll round that to 400 samples for each set.\n",
        "\n",
        "#  Randomize the dataset to ensure that the samples are shuffled\n",
        "# 'frac=1.0' means we are shuffling the entire DataFrame\n",
        "# 'random_state=271828' ensures reproducibility of the shuffling\n",
        "df = df.sample(frac=1.0, random_state=271828)\n",
        "\n",
        "# Define the desired sample size for the development and test sets\n",
        "# We want 400 samples for each set\n",
        "desired_sample_size = 400\n",
        "\n",
        "# Split the DataFrame into development/test set and training set\n",
        "# The first 800 samples (4 * 400) are used for the development and test sets\n",
        "df_dev_test = df[: desired_sample_size * 4]\n",
        "\n",
        "# The remaining samples are used for the training set\n",
        "df_train = df[desired_sample_size * 4 :]\n",
        "\n",
        "# Print the size of the original dataset\n",
        "print(\"Original dataset size: \", len(df))\n",
        "\n",
        "# Print the size of the training set\n",
        "print(f\"Train set size: {len(df_train)}\")\n",
        "\n",
        "# Print the size of the combined development and test set\n",
        "print(f\"Dev/Test set size: {len(df_dev_test)}\")"
      ]
    },
    {
      "cell_type": "code",
      "execution_count": 20,
      "metadata": {},
      "outputs": [],
      "source": [
        "df_train.to_parquet(\"./data/train.parquet\", index=False)\n",
        "df_dev_test.to_parquet(\"./data/dev_test.parquet\", index=False)"
      ]
    },
    {
      "cell_type": "code",
      "execution_count": 21,
      "metadata": {},
      "outputs": [],
      "source": [
        "labeled = pd.read_parquet(\"data/labeled/noticias_rotuladas_zeroshot.parquet\")\n",
        "\n",
        "labeled.to_csv(\"data/labeled/labeled.csv\", index=False)"
      ]
    }
  ],
  "metadata": {
    "colab": {
      "provenance": []
    },
    "kernelspec": {
      "display_name": "venv",
      "language": "python",
      "name": "python3"
    },
    "language_info": {
      "codemirror_mode": {
        "name": "ipython",
        "version": 3
      },
      "file_extension": ".py",
      "mimetype": "text/x-python",
      "name": "python",
      "nbconvert_exporter": "python",
      "pygments_lexer": "ipython3",
      "version": "3.10.12"
    }
  },
  "nbformat": 4,
  "nbformat_minor": 0
}
